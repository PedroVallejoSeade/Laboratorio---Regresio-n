{
 "cells": [
  {
   "cell_type": "code",
   "execution_count": 1,
   "id": "6276a0fe",
   "metadata": {},
   "outputs": [],
   "source": [
    "# Cargar librerias\n",
    "\n",
    "import pandas as pd\n",
    "import numpy as np\n",
    "import matplotlib.pyplot as plt\n",
    "import seaborn as sns\n",
    "\n",
    "# Composicion de pipelines\n",
    "from sklearn.compose import ColumnTransformer\n",
    "from sklearn.pipeline import Pipeline\n",
    "from sklearn.impute import SimpleImputer\n",
    "from sklearn.preprocessing import PolynomialFeatures\n",
    "from sklearn.preprocessing import MinMaxScaler\n",
    "\n",
    "# Regresion lineal\n",
    "from sklearn.linear_model import LinearRegression\n",
    "\n",
    "# Importar/ Exportar modelos\n",
    "from joblib import dump, load\n",
    "\n",
    "# Metricas\n",
    "from sklearn.metrics import mean_squared_error as mse\n",
    "\n",
    "# q-q plots\n",
    "import scipy.stats as stats"
   ]
  },
  {
   "cell_type": "code",
   "execution_count": 2,
   "id": "641daa69",
   "metadata": {},
   "outputs": [
    {
     "name": "stdout",
     "output_type": "stream",
     "text": [
      "(1569, 9)\n"
     ]
    },
    {
     "data": {
      "text/html": [
       "<div>\n",
       "<style scoped>\n",
       "    .dataframe tbody tr th:only-of-type {\n",
       "        vertical-align: middle;\n",
       "    }\n",
       "\n",
       "    .dataframe tbody tr th {\n",
       "        vertical-align: top;\n",
       "    }\n",
       "\n",
       "    .dataframe thead th {\n",
       "        text-align: right;\n",
       "    }\n",
       "</style>\n",
       "<table border=\"1\" class=\"dataframe\">\n",
       "  <thead>\n",
       "    <tr style=\"text-align: right;\">\n",
       "      <th></th>\n",
       "      <th>Unnamed: 0</th>\n",
       "      <th>GRE Score</th>\n",
       "      <th>TOEFL Score</th>\n",
       "      <th>University Rating</th>\n",
       "      <th>SOP</th>\n",
       "      <th>LOR</th>\n",
       "      <th>CGPA</th>\n",
       "      <th>Research</th>\n",
       "      <th>Admission Points</th>\n",
       "    </tr>\n",
       "    <tr>\n",
       "      <th>Serial No.</th>\n",
       "      <th></th>\n",
       "      <th></th>\n",
       "      <th></th>\n",
       "      <th></th>\n",
       "      <th></th>\n",
       "      <th></th>\n",
       "      <th></th>\n",
       "      <th></th>\n",
       "      <th></th>\n",
       "    </tr>\n",
       "  </thead>\n",
       "  <tbody>\n",
       "    <tr>\n",
       "      <th>479</th>\n",
       "      <td>0</td>\n",
       "      <td>327</td>\n",
       "      <td>113</td>\n",
       "      <td>4</td>\n",
       "      <td>4.00</td>\n",
       "      <td>2.77</td>\n",
       "      <td>8.88</td>\n",
       "      <td>1</td>\n",
       "      <td>84.47</td>\n",
       "    </tr>\n",
       "    <tr>\n",
       "      <th>446</th>\n",
       "      <td>1</td>\n",
       "      <td>301</td>\n",
       "      <td>92</td>\n",
       "      <td>1</td>\n",
       "      <td>1.85</td>\n",
       "      <td>1.50</td>\n",
       "      <td>7.71</td>\n",
       "      <td>0</td>\n",
       "      <td>45.08</td>\n",
       "    </tr>\n",
       "    <tr>\n",
       "      <th>336</th>\n",
       "      <td>2</td>\n",
       "      <td>297</td>\n",
       "      <td>100</td>\n",
       "      <td>1</td>\n",
       "      <td>2.41</td>\n",
       "      <td>1.59</td>\n",
       "      <td>7.89</td>\n",
       "      <td>0</td>\n",
       "      <td>47.42</td>\n",
       "    </tr>\n",
       "    <tr>\n",
       "      <th>20</th>\n",
       "      <td>3</td>\n",
       "      <td>303</td>\n",
       "      <td>98</td>\n",
       "      <td>3</td>\n",
       "      <td>3.50</td>\n",
       "      <td>3.00</td>\n",
       "      <td>8.50</td>\n",
       "      <td>0</td>\n",
       "      <td>62.00</td>\n",
       "    </tr>\n",
       "    <tr>\n",
       "      <th>432</th>\n",
       "      <td>4</td>\n",
       "      <td>320</td>\n",
       "      <td>94</td>\n",
       "      <td>2</td>\n",
       "      <td>1.38</td>\n",
       "      <td>3.50</td>\n",
       "      <td>8.78</td>\n",
       "      <td>1</td>\n",
       "      <td>73.00</td>\n",
       "    </tr>\n",
       "  </tbody>\n",
       "</table>\n",
       "</div>"
      ],
      "text/plain": [
       "            Unnamed: 0  GRE Score  TOEFL Score  University Rating   SOP  LOR   \\\n",
       "Serial No.                                                                      \n",
       "479                  0        327          113                  4  4.00  2.77   \n",
       "446                  1        301           92                  1  1.85  1.50   \n",
       "336                  2        297          100                  1  2.41  1.59   \n",
       "20                   3        303           98                  3  3.50  3.00   \n",
       "432                  4        320           94                  2  1.38  3.50   \n",
       "\n",
       "            CGPA  Research  Admission Points  \n",
       "Serial No.                                    \n",
       "479         8.88         1             84.47  \n",
       "446         7.71         0             45.08  \n",
       "336         7.89         0             47.42  \n",
       "20          8.50         0             62.00  \n",
       "432         8.78         1             73.00  "
      ]
     },
     "execution_count": 2,
     "metadata": {},
     "output_type": "execute_result"
    }
   ],
   "source": [
    "# Se cargan los datos de entrenamiento\n",
    "\n",
    "df_original = pd.read_csv('202220_Laboratorio_3_data_university_admission_train.csv', sep=',', encoding = 'utf-8', index_col=1)\n",
    "df_tracks = df_original.copy()\n",
    "print(df_tracks.shape)\n",
    "df_tracks.head(5)"
   ]
  },
  {
   "cell_type": "code",
   "execution_count": 3,
   "id": "29de1620",
   "metadata": {},
   "outputs": [
    {
     "data": {
      "text/html": [
       "<div>\n",
       "<style scoped>\n",
       "    .dataframe tbody tr th:only-of-type {\n",
       "        vertical-align: middle;\n",
       "    }\n",
       "\n",
       "    .dataframe tbody tr th {\n",
       "        vertical-align: top;\n",
       "    }\n",
       "\n",
       "    .dataframe thead th {\n",
       "        text-align: right;\n",
       "    }\n",
       "</style>\n",
       "<table border=\"1\" class=\"dataframe\">\n",
       "  <thead>\n",
       "    <tr style=\"text-align: right;\">\n",
       "      <th></th>\n",
       "      <th>GRE Score</th>\n",
       "      <th>TOEFL Score</th>\n",
       "      <th>University Rating</th>\n",
       "      <th>SOP</th>\n",
       "      <th>LOR</th>\n",
       "      <th>CGPA</th>\n",
       "      <th>Research</th>\n",
       "      <th>Admission Points</th>\n",
       "    </tr>\n",
       "    <tr>\n",
       "      <th>Serial No.</th>\n",
       "      <th></th>\n",
       "      <th></th>\n",
       "      <th></th>\n",
       "      <th></th>\n",
       "      <th></th>\n",
       "      <th></th>\n",
       "      <th></th>\n",
       "      <th></th>\n",
       "    </tr>\n",
       "  </thead>\n",
       "  <tbody>\n",
       "    <tr>\n",
       "      <th>479</th>\n",
       "      <td>327</td>\n",
       "      <td>113</td>\n",
       "      <td>4</td>\n",
       "      <td>4.00</td>\n",
       "      <td>2.77</td>\n",
       "      <td>8.88</td>\n",
       "      <td>1</td>\n",
       "      <td>84.47</td>\n",
       "    </tr>\n",
       "    <tr>\n",
       "      <th>446</th>\n",
       "      <td>301</td>\n",
       "      <td>92</td>\n",
       "      <td>1</td>\n",
       "      <td>1.85</td>\n",
       "      <td>1.50</td>\n",
       "      <td>7.71</td>\n",
       "      <td>0</td>\n",
       "      <td>45.08</td>\n",
       "    </tr>\n",
       "    <tr>\n",
       "      <th>336</th>\n",
       "      <td>297</td>\n",
       "      <td>100</td>\n",
       "      <td>1</td>\n",
       "      <td>2.41</td>\n",
       "      <td>1.59</td>\n",
       "      <td>7.89</td>\n",
       "      <td>0</td>\n",
       "      <td>47.42</td>\n",
       "    </tr>\n",
       "    <tr>\n",
       "      <th>20</th>\n",
       "      <td>303</td>\n",
       "      <td>98</td>\n",
       "      <td>3</td>\n",
       "      <td>3.50</td>\n",
       "      <td>3.00</td>\n",
       "      <td>8.50</td>\n",
       "      <td>0</td>\n",
       "      <td>62.00</td>\n",
       "    </tr>\n",
       "    <tr>\n",
       "      <th>432</th>\n",
       "      <td>320</td>\n",
       "      <td>94</td>\n",
       "      <td>2</td>\n",
       "      <td>1.38</td>\n",
       "      <td>3.50</td>\n",
       "      <td>8.78</td>\n",
       "      <td>1</td>\n",
       "      <td>73.00</td>\n",
       "    </tr>\n",
       "    <tr>\n",
       "      <th>...</th>\n",
       "      <td>...</td>\n",
       "      <td>...</td>\n",
       "      <td>...</td>\n",
       "      <td>...</td>\n",
       "      <td>...</td>\n",
       "      <td>...</td>\n",
       "      <td>...</td>\n",
       "      <td>...</td>\n",
       "    </tr>\n",
       "    <tr>\n",
       "      <th>114</th>\n",
       "      <td>298</td>\n",
       "      <td>99</td>\n",
       "      <td>2</td>\n",
       "      <td>3.00</td>\n",
       "      <td>3.76</td>\n",
       "      <td>7.44</td>\n",
       "      <td>0</td>\n",
       "      <td>47.50</td>\n",
       "    </tr>\n",
       "    <tr>\n",
       "      <th>274</th>\n",
       "      <td>312</td>\n",
       "      <td>77</td>\n",
       "      <td>1</td>\n",
       "      <td>1.00</td>\n",
       "      <td>1.71</td>\n",
       "      <td>8.01</td>\n",
       "      <td>1</td>\n",
       "      <td>52.00</td>\n",
       "    </tr>\n",
       "    <tr>\n",
       "      <th>149</th>\n",
       "      <td>292</td>\n",
       "      <td>99</td>\n",
       "      <td>1</td>\n",
       "      <td>2.65</td>\n",
       "      <td>2.91</td>\n",
       "      <td>6.63</td>\n",
       "      <td>0</td>\n",
       "      <td>47.54</td>\n",
       "    </tr>\n",
       "    <tr>\n",
       "      <th>102</th>\n",
       "      <td>312</td>\n",
       "      <td>105</td>\n",
       "      <td>2</td>\n",
       "      <td>4.41</td>\n",
       "      <td>3.00</td>\n",
       "      <td>8.37</td>\n",
       "      <td>0</td>\n",
       "      <td>64.00</td>\n",
       "    </tr>\n",
       "    <tr>\n",
       "      <th>371</th>\n",
       "      <td>310</td>\n",
       "      <td>71</td>\n",
       "      <td>2</td>\n",
       "      <td>2.50</td>\n",
       "      <td>3.89</td>\n",
       "      <td>8.24</td>\n",
       "      <td>0</td>\n",
       "      <td>72.00</td>\n",
       "    </tr>\n",
       "  </tbody>\n",
       "</table>\n",
       "<p>1569 rows × 8 columns</p>\n",
       "</div>"
      ],
      "text/plain": [
       "            GRE Score  TOEFL Score  University Rating   SOP  LOR   CGPA  \\\n",
       "Serial No.                                                                \n",
       "479               327          113                  4  4.00  2.77  8.88   \n",
       "446               301           92                  1  1.85  1.50  7.71   \n",
       "336               297          100                  1  2.41  1.59  7.89   \n",
       "20                303           98                  3  3.50  3.00  8.50   \n",
       "432               320           94                  2  1.38  3.50  8.78   \n",
       "...               ...          ...                ...   ...   ...   ...   \n",
       "114               298           99                  2  3.00  3.76  7.44   \n",
       "274               312           77                  1  1.00  1.71  8.01   \n",
       "149               292           99                  1  2.65  2.91  6.63   \n",
       "102               312          105                  2  4.41  3.00  8.37   \n",
       "371               310           71                  2  2.50  3.89  8.24   \n",
       "\n",
       "            Research  Admission Points  \n",
       "Serial No.                              \n",
       "479                1             84.47  \n",
       "446                0             45.08  \n",
       "336                0             47.42  \n",
       "20                 0             62.00  \n",
       "432                1             73.00  \n",
       "...              ...               ...  \n",
       "114                0             47.50  \n",
       "274                1             52.00  \n",
       "149                0             47.54  \n",
       "102                0             64.00  \n",
       "371                0             72.00  \n",
       "\n",
       "[1569 rows x 8 columns]"
      ]
     },
     "execution_count": 3,
     "metadata": {},
     "output_type": "execute_result"
    }
   ],
   "source": [
    "# Eliminar columna no relevante\n",
    "\n",
    "df_tracks = df_tracks.drop('Unnamed: 0', axis = 1)\n",
    "df_tracks"
   ]
  },
  {
   "cell_type": "code",
   "execution_count": 4,
   "id": "692facf6",
   "metadata": {},
   "outputs": [
    {
     "name": "stdout",
     "output_type": "stream",
     "text": [
      "(175, 7)\n"
     ]
    },
    {
     "data": {
      "text/html": [
       "<div>\n",
       "<style scoped>\n",
       "    .dataframe tbody tr th:only-of-type {\n",
       "        vertical-align: middle;\n",
       "    }\n",
       "\n",
       "    .dataframe tbody tr th {\n",
       "        vertical-align: top;\n",
       "    }\n",
       "\n",
       "    .dataframe thead th {\n",
       "        text-align: right;\n",
       "    }\n",
       "</style>\n",
       "<table border=\"1\" class=\"dataframe\">\n",
       "  <thead>\n",
       "    <tr style=\"text-align: right;\">\n",
       "      <th></th>\n",
       "      <th>GRE Score</th>\n",
       "      <th>TOEFL Score</th>\n",
       "      <th>University Rating</th>\n",
       "      <th>SOP</th>\n",
       "      <th>LOR</th>\n",
       "      <th>CGPA</th>\n",
       "      <th>Research</th>\n",
       "    </tr>\n",
       "    <tr>\n",
       "      <th>Serial No.</th>\n",
       "      <th></th>\n",
       "      <th></th>\n",
       "      <th></th>\n",
       "      <th></th>\n",
       "      <th></th>\n",
       "      <th></th>\n",
       "      <th></th>\n",
       "    </tr>\n",
       "  </thead>\n",
       "  <tbody>\n",
       "    <tr>\n",
       "      <th>117</th>\n",
       "      <td>299</td>\n",
       "      <td>102</td>\n",
       "      <td>3</td>\n",
       "      <td>4.0</td>\n",
       "      <td>3.5</td>\n",
       "      <td>8.62</td>\n",
       "      <td>0</td>\n",
       "    </tr>\n",
       "    <tr>\n",
       "      <th>49</th>\n",
       "      <td>321</td>\n",
       "      <td>110</td>\n",
       "      <td>3</td>\n",
       "      <td>3.5</td>\n",
       "      <td>5.0</td>\n",
       "      <td>8.85</td>\n",
       "      <td>1</td>\n",
       "    </tr>\n",
       "    <tr>\n",
       "      <th>94</th>\n",
       "      <td>301</td>\n",
       "      <td>97</td>\n",
       "      <td>2</td>\n",
       "      <td>3.0</td>\n",
       "      <td>3.0</td>\n",
       "      <td>7.88</td>\n",
       "      <td>1</td>\n",
       "    </tr>\n",
       "    <tr>\n",
       "      <th>108</th>\n",
       "      <td>338</td>\n",
       "      <td>117</td>\n",
       "      <td>4</td>\n",
       "      <td>3.5</td>\n",
       "      <td>4.5</td>\n",
       "      <td>9.46</td>\n",
       "      <td>1</td>\n",
       "    </tr>\n",
       "    <tr>\n",
       "      <th>327</th>\n",
       "      <td>299</td>\n",
       "      <td>100</td>\n",
       "      <td>3</td>\n",
       "      <td>2.0</td>\n",
       "      <td>2.0</td>\n",
       "      <td>8.02</td>\n",
       "      <td>0</td>\n",
       "    </tr>\n",
       "  </tbody>\n",
       "</table>\n",
       "</div>"
      ],
      "text/plain": [
       "            GRE Score  TOEFL Score  University Rating  SOP  LOR   CGPA  \\\n",
       "Serial No.                                                               \n",
       "117               299          102                  3  4.0   3.5  8.62   \n",
       "49                321          110                  3  3.5   5.0  8.85   \n",
       "94                301           97                  2  3.0   3.0  7.88   \n",
       "108               338          117                  4  3.5   4.5  9.46   \n",
       "327               299          100                  3  2.0   2.0  8.02   \n",
       "\n",
       "            Research  \n",
       "Serial No.            \n",
       "117                0  \n",
       "49                 1  \n",
       "94                 1  \n",
       "108                1  \n",
       "327                0  "
      ]
     },
     "execution_count": 4,
     "metadata": {},
     "output_type": "execute_result"
    }
   ],
   "source": [
    "# Se cargan los datos de prueba\n",
    "\n",
    "df_recent = pd.read_csv('202220_Laboratorio_3_data_university_admission_test.csv', sep=',', encoding = 'utf-8', index_col=0)\n",
    "print(df_recent.shape)\n",
    "df_recent.head(5)"
   ]
  },
  {
   "cell_type": "markdown",
   "id": "f7069e71",
   "metadata": {},
   "source": [
    "# Perfilamiento y entendimiento de datos"
   ]
  },
  {
   "cell_type": "markdown",
   "id": "cf40b4cb",
   "metadata": {},
   "source": [
    "## Datos de entrenamiento"
   ]
  },
  {
   "cell_type": "code",
   "execution_count": 5,
   "id": "08f21082",
   "metadata": {},
   "outputs": [
    {
     "data": {
      "text/html": [
       "<div>\n",
       "<style scoped>\n",
       "    .dataframe tbody tr th:only-of-type {\n",
       "        vertical-align: middle;\n",
       "    }\n",
       "\n",
       "    .dataframe tbody tr th {\n",
       "        vertical-align: top;\n",
       "    }\n",
       "\n",
       "    .dataframe thead th {\n",
       "        text-align: right;\n",
       "    }\n",
       "</style>\n",
       "<table border=\"1\" class=\"dataframe\">\n",
       "  <thead>\n",
       "    <tr style=\"text-align: right;\">\n",
       "      <th></th>\n",
       "      <th>GRE Score</th>\n",
       "      <th>TOEFL Score</th>\n",
       "      <th>University Rating</th>\n",
       "      <th>SOP</th>\n",
       "      <th>LOR</th>\n",
       "      <th>CGPA</th>\n",
       "      <th>Research</th>\n",
       "      <th>Admission Points</th>\n",
       "    </tr>\n",
       "  </thead>\n",
       "  <tbody>\n",
       "    <tr>\n",
       "      <th>count</th>\n",
       "      <td>1569.000000</td>\n",
       "      <td>1569.000000</td>\n",
       "      <td>1569.000000</td>\n",
       "      <td>1569.000000</td>\n",
       "      <td>1569.000000</td>\n",
       "      <td>1569.000000</td>\n",
       "      <td>1569.000000</td>\n",
       "      <td>1504.000000</td>\n",
       "    </tr>\n",
       "    <tr>\n",
       "      <th>mean</th>\n",
       "      <td>307.669216</td>\n",
       "      <td>101.632250</td>\n",
       "      <td>2.873805</td>\n",
       "      <td>2.980848</td>\n",
       "      <td>3.013907</td>\n",
       "      <td>8.342231</td>\n",
       "      <td>0.469726</td>\n",
       "      <td>66.744328</td>\n",
       "    </tr>\n",
       "    <tr>\n",
       "      <th>std</th>\n",
       "      <td>17.857559</td>\n",
       "      <td>12.386238</td>\n",
       "      <td>1.245147</td>\n",
       "      <td>1.234802</td>\n",
       "      <td>1.214377</td>\n",
       "      <td>0.812729</td>\n",
       "      <td>0.499242</td>\n",
       "      <td>19.253029</td>\n",
       "    </tr>\n",
       "    <tr>\n",
       "      <th>min</th>\n",
       "      <td>257.000000</td>\n",
       "      <td>69.000000</td>\n",
       "      <td>1.000000</td>\n",
       "      <td>0.020000</td>\n",
       "      <td>0.000000</td>\n",
       "      <td>6.100000</td>\n",
       "      <td>0.000000</td>\n",
       "      <td>34.000000</td>\n",
       "    </tr>\n",
       "    <tr>\n",
       "      <th>25%</th>\n",
       "      <td>298.000000</td>\n",
       "      <td>96.000000</td>\n",
       "      <td>2.000000</td>\n",
       "      <td>2.000000</td>\n",
       "      <td>2.050000</td>\n",
       "      <td>7.750000</td>\n",
       "      <td>0.000000</td>\n",
       "      <td>48.000000</td>\n",
       "    </tr>\n",
       "    <tr>\n",
       "      <th>50%</th>\n",
       "      <td>309.000000</td>\n",
       "      <td>104.000000</td>\n",
       "      <td>3.000000</td>\n",
       "      <td>3.000000</td>\n",
       "      <td>3.000000</td>\n",
       "      <td>8.330000</td>\n",
       "      <td>0.000000</td>\n",
       "      <td>67.000000</td>\n",
       "    </tr>\n",
       "    <tr>\n",
       "      <th>75%</th>\n",
       "      <td>322.000000</td>\n",
       "      <td>111.000000</td>\n",
       "      <td>4.000000</td>\n",
       "      <td>4.000000</td>\n",
       "      <td>4.000000</td>\n",
       "      <td>9.040000</td>\n",
       "      <td>1.000000</td>\n",
       "      <td>84.000000</td>\n",
       "    </tr>\n",
       "    <tr>\n",
       "      <th>max</th>\n",
       "      <td>340.000000</td>\n",
       "      <td>120.000000</td>\n",
       "      <td>5.000000</td>\n",
       "      <td>5.000000</td>\n",
       "      <td>5.000000</td>\n",
       "      <td>9.920000</td>\n",
       "      <td>1.000000</td>\n",
       "      <td>145.500000</td>\n",
       "    </tr>\n",
       "  </tbody>\n",
       "</table>\n",
       "</div>"
      ],
      "text/plain": [
       "         GRE Score  TOEFL Score  University Rating          SOP         LOR   \\\n",
       "count  1569.000000  1569.000000        1569.000000  1569.000000  1569.000000   \n",
       "mean    307.669216   101.632250           2.873805     2.980848     3.013907   \n",
       "std      17.857559    12.386238           1.245147     1.234802     1.214377   \n",
       "min     257.000000    69.000000           1.000000     0.020000     0.000000   \n",
       "25%     298.000000    96.000000           2.000000     2.000000     2.050000   \n",
       "50%     309.000000   104.000000           3.000000     3.000000     3.000000   \n",
       "75%     322.000000   111.000000           4.000000     4.000000     4.000000   \n",
       "max     340.000000   120.000000           5.000000     5.000000     5.000000   \n",
       "\n",
       "              CGPA     Research  Admission Points  \n",
       "count  1569.000000  1569.000000       1504.000000  \n",
       "mean      8.342231     0.469726         66.744328  \n",
       "std       0.812729     0.499242         19.253029  \n",
       "min       6.100000     0.000000         34.000000  \n",
       "25%       7.750000     0.000000         48.000000  \n",
       "50%       8.330000     0.000000         67.000000  \n",
       "75%       9.040000     1.000000         84.000000  \n",
       "max       9.920000     1.000000        145.500000  "
      ]
     },
     "execution_count": 5,
     "metadata": {},
     "output_type": "execute_result"
    }
   ],
   "source": [
    "df_num = df_tracks.select_dtypes(['number']).copy()\n",
    "df_num.describe()"
   ]
  },
  {
   "cell_type": "markdown",
   "id": "ad3df3b8",
   "metadata": {},
   "source": [
    "Con la información posterior podemos ver que los datos son validos ya que concuerdan con las definiciones presentadas en el diccionario"
   ]
  },
  {
   "cell_type": "code",
   "execution_count": 6,
   "id": "733561d7",
   "metadata": {},
   "outputs": [
    {
     "data": {
      "text/plain": [
       "<AxesSubplot:xlabel='Admission Points'>"
      ]
     },
     "execution_count": 6,
     "metadata": {},
     "output_type": "execute_result"
    },
    {
     "data": {
      "image/png": "[encoded data removed]",
      "text/plain": [
       "<Figure size 432x288 with 1 Axes>"
      ]
     },
     "metadata": {
      "needs_background": "light"
     },
     "output_type": "display_data"
    }
   ],
   "source": [
    "# Se visualiza la distribución de la variable objetivo\n",
    "\n",
    "sns.boxplot(x=df_tracks[\"Admission Points\"])"
   ]
  },
  {
   "cell_type": "code",
   "execution_count": 7,
   "id": "9c3d1326",
   "metadata": {},
   "outputs": [
    {
     "data": {
      "image/png": "[encoded data removed]",
      "text/plain": [
       "<Figure size 576x288 with 1 Axes>"
      ]
     },
     "metadata": {
      "needs_background": "light"
     },
     "output_type": "display_data"
    }
   ],
   "source": [
    "# Se visualiza la distribución de todas la variables\n",
    "\n",
    "fig=plt.figure(figsize=(8,4))\n",
    "ax = sns.boxplot(data=df_original[df_original.columns])\n",
    "d = ax.set_xticklabels(ax.get_xticklabels(),rotation = 70)"
   ]
  },
  {
   "cell_type": "code",
   "execution_count": 8,
   "id": "c72649f6",
   "metadata": {
    "scrolled": true
   },
   "outputs": [
    {
     "data": {
      "text/plain": [
       "<AxesSubplot:xlabel='GRE Score'>"
      ]
     },
     "execution_count": 8,
     "metadata": {},
     "output_type": "execute_result"
    },
    {
     "data": {
      "image/png": "[encoded data removed]",
      "text/plain": [
       "<Figure size 432x288 with 1 Axes>"
      ]
     },
     "metadata": {
      "needs_background": "light"
     },
     "output_type": "display_data"
    }
   ],
   "source": [
    "# Se visualizan las distribución es de todas las variables segun su escala\n",
    "\n",
    "sns.boxplot(x=df_tracks[\"GRE Score\"])"
   ]
  },
  {
   "cell_type": "code",
   "execution_count": 9,
   "id": "f80a7a95",
   "metadata": {},
   "outputs": [
    {
     "data": {
      "text/plain": [
       "<AxesSubplot:xlabel='TOEFL Score'>"
      ]
     },
     "execution_count": 9,
     "metadata": {},
     "output_type": "execute_result"
    },
    {
     "data": {
      "image/png": "[encoded data removed]",
      "text/plain": [
       "<Figure size 432x288 with 1 Axes>"
      ]
     },
     "metadata": {
      "needs_background": "light"
     },
     "output_type": "display_data"
    }
   ],
   "source": [
    "sns.boxplot(x=df_tracks[\"TOEFL Score\"])"
   ]
  },
  {
   "cell_type": "code",
   "execution_count": 10,
   "id": "2544520f",
   "metadata": {},
   "outputs": [
    {
     "data": {
      "text/plain": [
       "<AxesSubplot:xlabel='University Rating'>"
      ]
     },
     "execution_count": 10,
     "metadata": {},
     "output_type": "execute_result"
    },
    {
     "data": {
      "image/png": "[encoded data removed]",
      "text/plain": [
       "<Figure size 432x288 with 1 Axes>"
      ]
     },
     "metadata": {
      "needs_background": "light"
     },
     "output_type": "display_data"
    }
   ],
   "source": [
    "sns.boxplot(x=df_tracks[\"University Rating\"])"
   ]
  },
  {
   "cell_type": "code",
   "execution_count": 11,
   "id": "f8bf45f7",
   "metadata": {},
   "outputs": [
    {
     "data": {
      "text/plain": [
       "<AxesSubplot:xlabel='SOP'>"
      ]
     },
     "execution_count": 11,
     "metadata": {},
     "output_type": "execute_result"
    },
    {
     "data": {
      "image/png": "[encoded data removed]",
      "text/plain": [
       "<Figure size 432x288 with 1 Axes>"
      ]
     },
     "metadata": {
      "needs_background": "light"
     },
     "output_type": "display_data"
    }
   ],
   "source": [
    "sns.boxplot(x=df_tracks[\"SOP\"])"
   ]
  },
  {
   "cell_type": "code",
   "execution_count": 12,
   "id": "41d9af3e",
   "metadata": {},
   "outputs": [
    {
     "data": {
      "text/plain": [
       "<AxesSubplot:xlabel='LOR '>"
      ]
     },
     "execution_count": 12,
     "metadata": {},
     "output_type": "execute_result"
    },
    {
     "data": {
      "image/png": "[encoded data removed]",
      "text/plain": [
       "<Figure size 432x288 with 1 Axes>"
      ]
     },
     "metadata": {
      "needs_background": "light"
     },
     "output_type": "display_data"
    }
   ],
   "source": [
    "sns.boxplot(x=df_tracks[\"LOR \"])"
   ]
  },
  {
   "cell_type": "code",
   "execution_count": 13,
   "id": "30133b68",
   "metadata": {},
   "outputs": [
    {
     "data": {
      "text/plain": [
       "<AxesSubplot:xlabel='CGPA'>"
      ]
     },
     "execution_count": 13,
     "metadata": {},
     "output_type": "execute_result"
    },
    {
     "data": {
      "image/png": "[encoded data removed]",
      "text/plain": [
       "<Figure size 432x288 with 1 Axes>"
      ]
     },
     "metadata": {
      "needs_background": "light"
     },
     "output_type": "display_data"
    }
   ],
   "source": [
    "sns.boxplot(x=df_tracks[\"CGPA\"])"
   ]
  },
  {
   "cell_type": "code",
   "execution_count": 14,
   "id": "d83c4f3d",
   "metadata": {},
   "outputs": [
    {
     "data": {
      "image/png": "[encoded data removed]",
      "text/plain": [
       "<Figure size 648x432 with 1 Axes>"
      ]
     },
     "metadata": {
      "needs_background": "light"
     },
     "output_type": "display_data"
    },
    {
     "data": {
      "image/png": "[encoded data removed]",
      "text/plain": [
       "<Figure size 648x432 with 1 Axes>"
      ]
     },
     "metadata": {
      "needs_background": "light"
     },
     "output_type": "display_data"
    },
    {
     "data": {
      "image/png": "[encoded data removed]",
      "text/plain": [
       "<Figure size 648x432 with 1 Axes>"
      ]
     },
     "metadata": {
      "needs_background": "light"
     },
     "output_type": "display_data"
    },
    {
     "data": {
      "image/png": "[encoded data removed]",
      "text/plain": [
       "<Figure size 648x432 with 1 Axes>"
      ]
     },
     "metadata": {
      "needs_background": "light"
     },
     "output_type": "display_data"
    },
    {
     "data": {
      "image/png": "[encoded data removed]",
      "text/plain": [
       "<Figure size 648x432 with 1 Axes>"
      ]
     },
     "metadata": {
      "needs_background": "light"
     },
     "output_type": "display_data"
    },
    {
     "data": {
      "image/png": "[encoded data removed]",
      "text/plain": [
       "<Figure size 648x432 with 1 Axes>"
      ]
     },
     "metadata": {
      "needs_background": "light"
     },
     "output_type": "display_data"
    },
    {
     "data": {
      "image/png": "[encoded data removed]",
      "text/plain": [
       "<Figure size 648x432 with 1 Axes>"
      ]
     },
     "metadata": {
      "needs_background": "light"
     },
     "output_type": "display_data"
    },
    {
     "data": {
      "image/png": "[encoded data removed]",
      "text/plain": [
       "<Figure size 648x432 with 1 Axes>"
      ]
     },
     "metadata": {
      "needs_background": "light"
     },
     "output_type": "display_data"
    }
   ],
   "source": [
    "#Histogramas\n",
    "df_num = df_tracks.select_dtypes(include = ['float','int'])\n",
    "for col in df_num.columns:\n",
    "    plt.figure(figsize=(9,6))\n",
    "    plt.tight_layout()\n",
    "    sns.histplot(df_num[col])"
   ]
  },
  {
   "cell_type": "code",
   "execution_count": 15,
   "id": "59392945",
   "metadata": {},
   "outputs": [
    {
     "data": {
      "text/plain": [
       "GRE Score              int64\n",
       "TOEFL Score            int64\n",
       "University Rating      int64\n",
       "SOP                  float64\n",
       "LOR                  float64\n",
       "CGPA                 float64\n",
       "Research               int64\n",
       "Admission Points     float64\n",
       "dtype: object"
      ]
     },
     "execution_count": 15,
     "metadata": {},
     "output_type": "execute_result"
    }
   ],
   "source": [
    "# Se visualiza el tipo de datos que hay en cada columna\n",
    "\n",
    "df_tracks.dtypes"
   ]
  },
  {
   "cell_type": "code",
   "execution_count": 16,
   "id": "15a0ab27",
   "metadata": {},
   "outputs": [
    {
     "data": {
      "text/plain": [
       "18"
      ]
     },
     "execution_count": 16,
     "metadata": {},
     "output_type": "execute_result"
    }
   ],
   "source": [
    "# Analizar la duplicidad de los datos\n",
    "\n",
    "df_tracks.duplicated().sum()"
   ]
  },
  {
   "cell_type": "code",
   "execution_count": 17,
   "id": "01f13381",
   "metadata": {},
   "outputs": [
    {
     "data": {
      "text/plain": [
       "GRE Score             0\n",
       "TOEFL Score           0\n",
       "University Rating     0\n",
       "SOP                   0\n",
       "LOR                   0\n",
       "CGPA                  0\n",
       "Research              0\n",
       "Admission Points     65\n",
       "dtype: int64"
      ]
     },
     "execution_count": 17,
     "metadata": {},
     "output_type": "execute_result"
    }
   ],
   "source": [
    "# Analizar la completitud de los datos\n",
    "\n",
    "df_tracks.isna().sum()"
   ]
  },
  {
   "cell_type": "markdown",
   "id": "173fdc01",
   "metadata": {},
   "source": [
    "## Datos de prueba"
   ]
  },
  {
   "cell_type": "code",
   "execution_count": 18,
   "id": "7260546e",
   "metadata": {},
   "outputs": [
    {
     "data": {
      "text/html": [
       "<div>\n",
       "<style scoped>\n",
       "    .dataframe tbody tr th:only-of-type {\n",
       "        vertical-align: middle;\n",
       "    }\n",
       "\n",
       "    .dataframe tbody tr th {\n",
       "        vertical-align: top;\n",
       "    }\n",
       "\n",
       "    .dataframe thead th {\n",
       "        text-align: right;\n",
       "    }\n",
       "</style>\n",
       "<table border=\"1\" class=\"dataframe\">\n",
       "  <thead>\n",
       "    <tr style=\"text-align: right;\">\n",
       "      <th></th>\n",
       "      <th>GRE Score</th>\n",
       "      <th>TOEFL Score</th>\n",
       "      <th>University Rating</th>\n",
       "      <th>SOP</th>\n",
       "      <th>LOR</th>\n",
       "      <th>CGPA</th>\n",
       "      <th>Research</th>\n",
       "    </tr>\n",
       "  </thead>\n",
       "  <tbody>\n",
       "    <tr>\n",
       "      <th>count</th>\n",
       "      <td>175.000000</td>\n",
       "      <td>175.000000</td>\n",
       "      <td>175.000000</td>\n",
       "      <td>175.000000</td>\n",
       "      <td>175.000000</td>\n",
       "      <td>175.000000</td>\n",
       "      <td>175.000000</td>\n",
       "    </tr>\n",
       "    <tr>\n",
       "      <th>mean</th>\n",
       "      <td>313.274286</td>\n",
       "      <td>105.748571</td>\n",
       "      <td>2.925714</td>\n",
       "      <td>3.315486</td>\n",
       "      <td>3.329543</td>\n",
       "      <td>8.447143</td>\n",
       "      <td>0.480000</td>\n",
       "    </tr>\n",
       "    <tr>\n",
       "      <th>std</th>\n",
       "      <td>13.015648</td>\n",
       "      <td>6.658733</td>\n",
       "      <td>1.222477</td>\n",
       "      <td>1.020774</td>\n",
       "      <td>0.924678</td>\n",
       "      <td>0.707217</td>\n",
       "      <td>0.501033</td>\n",
       "    </tr>\n",
       "    <tr>\n",
       "      <th>min</th>\n",
       "      <td>290.000000</td>\n",
       "      <td>93.000000</td>\n",
       "      <td>1.000000</td>\n",
       "      <td>1.000000</td>\n",
       "      <td>1.000000</td>\n",
       "      <td>6.800000</td>\n",
       "      <td>0.000000</td>\n",
       "    </tr>\n",
       "    <tr>\n",
       "      <th>25%</th>\n",
       "      <td>301.000000</td>\n",
       "      <td>100.000000</td>\n",
       "      <td>2.000000</td>\n",
       "      <td>2.500000</td>\n",
       "      <td>2.600000</td>\n",
       "      <td>7.835000</td>\n",
       "      <td>0.000000</td>\n",
       "    </tr>\n",
       "    <tr>\n",
       "      <th>50%</th>\n",
       "      <td>312.000000</td>\n",
       "      <td>105.000000</td>\n",
       "      <td>3.000000</td>\n",
       "      <td>3.500000</td>\n",
       "      <td>3.190000</td>\n",
       "      <td>8.370000</td>\n",
       "      <td>0.000000</td>\n",
       "    </tr>\n",
       "    <tr>\n",
       "      <th>75%</th>\n",
       "      <td>324.000000</td>\n",
       "      <td>111.000000</td>\n",
       "      <td>4.000000</td>\n",
       "      <td>4.000000</td>\n",
       "      <td>4.000000</td>\n",
       "      <td>9.025000</td>\n",
       "      <td>1.000000</td>\n",
       "    </tr>\n",
       "    <tr>\n",
       "      <th>max</th>\n",
       "      <td>339.000000</td>\n",
       "      <td>119.000000</td>\n",
       "      <td>5.000000</td>\n",
       "      <td>5.000000</td>\n",
       "      <td>5.000000</td>\n",
       "      <td>9.870000</td>\n",
       "      <td>1.000000</td>\n",
       "    </tr>\n",
       "  </tbody>\n",
       "</table>\n",
       "</div>"
      ],
      "text/plain": [
       "        GRE Score  TOEFL Score  University Rating         SOP        LOR   \\\n",
       "count  175.000000   175.000000         175.000000  175.000000  175.000000   \n",
       "mean   313.274286   105.748571           2.925714    3.315486    3.329543   \n",
       "std     13.015648     6.658733           1.222477    1.020774    0.924678   \n",
       "min    290.000000    93.000000           1.000000    1.000000    1.000000   \n",
       "25%    301.000000   100.000000           2.000000    2.500000    2.600000   \n",
       "50%    312.000000   105.000000           3.000000    3.500000    3.190000   \n",
       "75%    324.000000   111.000000           4.000000    4.000000    4.000000   \n",
       "max    339.000000   119.000000           5.000000    5.000000    5.000000   \n",
       "\n",
       "             CGPA    Research  \n",
       "count  175.000000  175.000000  \n",
       "mean     8.447143    0.480000  \n",
       "std      0.707217    0.501033  \n",
       "min      6.800000    0.000000  \n",
       "25%      7.835000    0.000000  \n",
       "50%      8.370000    0.000000  \n",
       "75%      9.025000    1.000000  \n",
       "max      9.870000    1.000000  "
      ]
     },
     "execution_count": 18,
     "metadata": {},
     "output_type": "execute_result"
    }
   ],
   "source": [
    "df_num = df_recent.select_dtypes(['number']).copy()\n",
    "df_num.describe()"
   ]
  },
  {
   "cell_type": "code",
   "execution_count": 19,
   "id": "e55a3718",
   "metadata": {},
   "outputs": [
    {
     "data": {
      "image/png": "[encoded data removed]",
      "text/plain": [
       "<Figure size 576x288 with 1 Axes>"
      ]
     },
     "metadata": {
      "needs_background": "light"
     },
     "output_type": "display_data"
    }
   ],
   "source": [
    "# Se visualiza la distribución de todas la variables\n",
    "\n",
    "fig=plt.figure(figsize=(8,4))\n",
    "ax = sns.boxplot(data=df_recent[df_recent.columns])\n",
    "d = ax.set_xticklabels(ax.get_xticklabels(),rotation = 70)"
   ]
  },
  {
   "cell_type": "code",
   "execution_count": 20,
   "id": "3e7758d5",
   "metadata": {},
   "outputs": [
    {
     "data": {
      "text/plain": [
       "<AxesSubplot:xlabel='GRE Score'>"
      ]
     },
     "execution_count": 20,
     "metadata": {},
     "output_type": "execute_result"
    },
    {
     "data": {
      "image/png": "[encoded data removed]",
      "text/plain": [
       "<Figure size 432x288 with 1 Axes>"
      ]
     },
     "metadata": {
      "needs_background": "light"
     },
     "output_type": "display_data"
    }
   ],
   "source": [
    "# Se visualizan las distribución es de todas las variables segun su escala\n",
    "\n",
    "sns.boxplot(x=df_recent[\"GRE Score\"])"
   ]
  },
  {
   "cell_type": "code",
   "execution_count": 21,
   "id": "8de0449f",
   "metadata": {},
   "outputs": [
    {
     "data": {
      "text/plain": [
       "<AxesSubplot:xlabel='TOEFL Score'>"
      ]
     },
     "execution_count": 21,
     "metadata": {},
     "output_type": "execute_result"
    },
    {
     "data": {
      "image/png": "[encoded data removed]",
      "text/plain": [
       "<Figure size 432x288 with 1 Axes>"
      ]
     },
     "metadata": {
      "needs_background": "light"
     },
     "output_type": "display_data"
    }
   ],
   "source": [
    "sns.boxplot(x=df_recent[\"TOEFL Score\"])"
   ]
  },
  {
   "cell_type": "code",
   "execution_count": 22,
   "id": "26b82e96",
   "metadata": {},
   "outputs": [
    {
     "data": {
      "text/plain": [
       "<AxesSubplot:xlabel='University Rating'>"
      ]
     },
     "execution_count": 22,
     "metadata": {},
     "output_type": "execute_result"
    },
    {
     "data": {
      "image/png": "[encoded data removed]",
      "text/plain": [
       "<Figure size 432x288 with 1 Axes>"
      ]
     },
     "metadata": {
      "needs_background": "light"
     },
     "output_type": "display_data"
    }
   ],
   "source": [
    "sns.boxplot(x=df_recent[\"University Rating\"])"
   ]
  },
  {
   "cell_type": "code",
   "execution_count": 23,
   "id": "8fbc254d",
   "metadata": {},
   "outputs": [
    {
     "data": {
      "text/plain": [
       "<AxesSubplot:xlabel='SOP'>"
      ]
     },
     "execution_count": 23,
     "metadata": {},
     "output_type": "execute_result"
    },
    {
     "data": {
      "image/png": "[encoded data removed]",
      "text/plain": [
       "<Figure size 432x288 with 1 Axes>"
      ]
     },
     "metadata": {
      "needs_background": "light"
     },
     "output_type": "display_data"
    }
   ],
   "source": [
    "sns.boxplot(x=df_recent[\"SOP\"])"
   ]
  },
  {
   "cell_type": "code",
   "execution_count": 24,
   "id": "8a7c4496",
   "metadata": {},
   "outputs": [
    {
     "data": {
      "text/plain": [
       "<AxesSubplot:xlabel='LOR '>"
      ]
     },
     "execution_count": 24,
     "metadata": {},
     "output_type": "execute_result"
    },
    {
     "data": {
      "image/png": "[encoded data removed]",
      "text/plain": [
       "<Figure size 432x288 with 1 Axes>"
      ]
     },
     "metadata": {
      "needs_background": "light"
     },
     "output_type": "display_data"
    }
   ],
   "source": [
    "sns.boxplot(x=df_recent[\"LOR \"])"
   ]
  },
  {
   "cell_type": "code",
   "execution_count": 25,
   "id": "849b75e8",
   "metadata": {},
   "outputs": [
    {
     "data": {
      "text/plain": [
       "<AxesSubplot:xlabel='CGPA'>"
      ]
     },
     "execution_count": 25,
     "metadata": {},
     "output_type": "execute_result"
    },
    {
     "data": {
      "image/png": "[encoded data removed]",
      "text/plain": [
       "<Figure size 432x288 with 1 Axes>"
      ]
     },
     "metadata": {
      "needs_background": "light"
     },
     "output_type": "display_data"
    }
   ],
   "source": [
    "sns.boxplot(x=df_recent[\"CGPA\"])"
   ]
  },
  {
   "cell_type": "code",
   "execution_count": 26,
   "id": "3c5f60ed",
   "metadata": {},
   "outputs": [
    {
     "data": {
      "image/png": "[encoded data removed]",
      "text/plain": [
       "<Figure size 648x432 with 1 Axes>"
      ]
     },
     "metadata": {
      "needs_background": "light"
     },
     "output_type": "display_data"
    },
    {
     "data": {
      "image/png": "[encoded data removed]",
      "text/plain": [
       "<Figure size 648x432 with 1 Axes>"
      ]
     },
     "metadata": {
      "needs_background": "light"
     },
     "output_type": "display_data"
    },
    {
     "data": {
      "image/png": "[encoded data removed]",
      "text/plain": [
       "<Figure size 648x432 with 1 Axes>"
      ]
     },
     "metadata": {
      "needs_background": "light"
     },
     "output_type": "display_data"
    },
    {
     "data": {
      "image/png": "[encoded data removed]",
      "text/plain": [
       "<Figure size 648x432 with 1 Axes>"
      ]
     },
     "metadata": {
      "needs_background": "light"
     },
     "output_type": "display_data"
    },
    {
     "data": {
      "image/png": "[encoded data removed]",
      "text/plain": [
       "<Figure size 648x432 with 1 Axes>"
      ]
     },
     "metadata": {
      "needs_background": "light"
     },
     "output_type": "display_data"
    },
    {
     "data": {
      "image/png": "[encoded data removed]",
      "text/plain": [
       "<Figure size 648x432 with 1 Axes>"
      ]
     },
     "metadata": {
      "needs_background": "light"
     },
     "output_type": "display_data"
    },
    {
     "data": {
      "image/png": "[encoded data removed]",
      "text/plain": [
       "<Figure size 648x432 with 1 Axes>"
      ]
     },
     "metadata": {
      "needs_background": "light"
     },
     "output_type": "display_data"
    }
   ],
   "source": [
    "# Histogramas\n",
    "\n",
    "df_num = df_recent.select_dtypes(include = ['float','int'])\n",
    "for col in df_num.columns:\n",
    "    plt.figure(figsize=(9,6))\n",
    "    plt.tight_layout()\n",
    "    sns.histplot(df_num[col])"
   ]
  },
  {
   "cell_type": "code",
   "execution_count": 27,
   "id": "a52ec2ab",
   "metadata": {},
   "outputs": [
    {
     "data": {
      "text/plain": [
       "GRE Score              int64\n",
       "TOEFL Score            int64\n",
       "University Rating      int64\n",
       "SOP                  float64\n",
       "LOR                  float64\n",
       "CGPA                 float64\n",
       "Research               int64\n",
       "dtype: object"
      ]
     },
     "execution_count": 27,
     "metadata": {},
     "output_type": "execute_result"
    }
   ],
   "source": [
    "# Se visualiza el tipo de datos que hay en cada columna\n",
    "\n",
    "df_recent.dtypes"
   ]
  },
  {
   "cell_type": "code",
   "execution_count": 28,
   "id": "1a93ea56",
   "metadata": {},
   "outputs": [
    {
     "data": {
      "text/plain": [
       "15"
      ]
     },
     "execution_count": 28,
     "metadata": {},
     "output_type": "execute_result"
    }
   ],
   "source": [
    "# Analizar la duplicidad de los datos\n",
    "\n",
    "df_recent.duplicated().sum()"
   ]
  },
  {
   "cell_type": "code",
   "execution_count": 29,
   "id": "b805d23e",
   "metadata": {},
   "outputs": [
    {
     "data": {
      "text/plain": [
       "GRE Score            0\n",
       "TOEFL Score          0\n",
       "University Rating    0\n",
       "SOP                  0\n",
       "LOR                  0\n",
       "CGPA                 0\n",
       "Research             0\n",
       "dtype: int64"
      ]
     },
     "execution_count": 29,
     "metadata": {},
     "output_type": "execute_result"
    }
   ],
   "source": [
    "# Analizar la completitud de los datos\n",
    "\n",
    "df_recent.isna().sum()"
   ]
  },
  {
   "cell_type": "markdown",
   "id": "8cbfb4f8",
   "metadata": {},
   "source": [
    "# Preparación de los datos"
   ]
  },
  {
   "cell_type": "markdown",
   "id": "b5fae014",
   "metadata": {},
   "source": [
    "## Datos de entrenamiento"
   ]
  },
  {
   "cell_type": "code",
   "execution_count": 30,
   "id": "5969e97f",
   "metadata": {},
   "outputs": [],
   "source": [
    "# Eliminamos los registros que tienen la variable objetivo nula\n",
    "\n",
    "df_tracks_prep = df_tracks.dropna(subset = ['Admission Points'])"
   ]
  },
  {
   "cell_type": "code",
   "execution_count": 31,
   "id": "71dbdd7e",
   "metadata": {},
   "outputs": [],
   "source": [
    "# Se eliminan los datos duplicados\n",
    "\n",
    "df_tracks_prep = df_tracks_prep.drop_duplicates()"
   ]
  },
  {
   "cell_type": "markdown",
   "id": "8f6ac26c",
   "metadata": {},
   "source": [
    "## Datos de prueba"
   ]
  },
  {
   "cell_type": "code",
   "execution_count": 32,
   "id": "9c898b38",
   "metadata": {},
   "outputs": [],
   "source": [
    "# Se eliminan los datos duplicados\n",
    "\n",
    "df_recent_prep = df_recent.drop_duplicates()"
   ]
  },
  {
   "cell_type": "markdown",
   "id": "c9b01875",
   "metadata": {},
   "source": [
    "# Identificación de variables a utlizar"
   ]
  },
  {
   "cell_type": "code",
   "execution_count": 33,
   "id": "98012ca7",
   "metadata": {},
   "outputs": [
    {
     "data": {
      "text/html": [
       "<div>\n",
       "<style scoped>\n",
       "    .dataframe tbody tr th:only-of-type {\n",
       "        vertical-align: middle;\n",
       "    }\n",
       "\n",
       "    .dataframe tbody tr th {\n",
       "        vertical-align: top;\n",
       "    }\n",
       "\n",
       "    .dataframe thead th {\n",
       "        text-align: right;\n",
       "    }\n",
       "</style>\n",
       "<table border=\"1\" class=\"dataframe\">\n",
       "  <thead>\n",
       "    <tr style=\"text-align: right;\">\n",
       "      <th></th>\n",
       "      <th>GRE Score</th>\n",
       "      <th>TOEFL Score</th>\n",
       "      <th>University Rating</th>\n",
       "      <th>SOP</th>\n",
       "      <th>LOR</th>\n",
       "      <th>CGPA</th>\n",
       "      <th>Research</th>\n",
       "      <th>Admission Points</th>\n",
       "    </tr>\n",
       "  </thead>\n",
       "  <tbody>\n",
       "    <tr>\n",
       "      <th>count</th>\n",
       "      <td>1486.000000</td>\n",
       "      <td>1486.000000</td>\n",
       "      <td>1486.000000</td>\n",
       "      <td>1486.000000</td>\n",
       "      <td>1486.000000</td>\n",
       "      <td>1486.000000</td>\n",
       "      <td>1486.000000</td>\n",
       "      <td>1486.000000</td>\n",
       "    </tr>\n",
       "    <tr>\n",
       "      <th>mean</th>\n",
       "      <td>307.693809</td>\n",
       "      <td>101.553163</td>\n",
       "      <td>2.880888</td>\n",
       "      <td>2.976770</td>\n",
       "      <td>3.018964</td>\n",
       "      <td>8.347537</td>\n",
       "      <td>0.470390</td>\n",
       "      <td>66.795962</td>\n",
       "    </tr>\n",
       "    <tr>\n",
       "      <th>std</th>\n",
       "      <td>17.894184</td>\n",
       "      <td>12.501348</td>\n",
       "      <td>1.242870</td>\n",
       "      <td>1.236833</td>\n",
       "      <td>1.215772</td>\n",
       "      <td>0.812251</td>\n",
       "      <td>0.499291</td>\n",
       "      <td>19.277668</td>\n",
       "    </tr>\n",
       "    <tr>\n",
       "      <th>min</th>\n",
       "      <td>257.000000</td>\n",
       "      <td>69.000000</td>\n",
       "      <td>1.000000</td>\n",
       "      <td>0.020000</td>\n",
       "      <td>0.000000</td>\n",
       "      <td>6.100000</td>\n",
       "      <td>0.000000</td>\n",
       "      <td>34.000000</td>\n",
       "    </tr>\n",
       "    <tr>\n",
       "      <th>25%</th>\n",
       "      <td>298.000000</td>\n",
       "      <td>96.000000</td>\n",
       "      <td>2.000000</td>\n",
       "      <td>2.000000</td>\n",
       "      <td>2.035000</td>\n",
       "      <td>7.770000</td>\n",
       "      <td>0.000000</td>\n",
       "      <td>48.000000</td>\n",
       "    </tr>\n",
       "    <tr>\n",
       "      <th>50%</th>\n",
       "      <td>309.000000</td>\n",
       "      <td>103.500000</td>\n",
       "      <td>3.000000</td>\n",
       "      <td>3.000000</td>\n",
       "      <td>3.000000</td>\n",
       "      <td>8.340000</td>\n",
       "      <td>0.000000</td>\n",
       "      <td>67.000000</td>\n",
       "    </tr>\n",
       "    <tr>\n",
       "      <th>75%</th>\n",
       "      <td>322.000000</td>\n",
       "      <td>111.000000</td>\n",
       "      <td>4.000000</td>\n",
       "      <td>4.000000</td>\n",
       "      <td>4.000000</td>\n",
       "      <td>9.050000</td>\n",
       "      <td>1.000000</td>\n",
       "      <td>84.000000</td>\n",
       "    </tr>\n",
       "    <tr>\n",
       "      <th>max</th>\n",
       "      <td>340.000000</td>\n",
       "      <td>120.000000</td>\n",
       "      <td>5.000000</td>\n",
       "      <td>5.000000</td>\n",
       "      <td>5.000000</td>\n",
       "      <td>9.920000</td>\n",
       "      <td>1.000000</td>\n",
       "      <td>145.500000</td>\n",
       "    </tr>\n",
       "  </tbody>\n",
       "</table>\n",
       "</div>"
      ],
      "text/plain": [
       "         GRE Score  TOEFL Score  University Rating          SOP         LOR   \\\n",
       "count  1486.000000  1486.000000        1486.000000  1486.000000  1486.000000   \n",
       "mean    307.693809   101.553163           2.880888     2.976770     3.018964   \n",
       "std      17.894184    12.501348           1.242870     1.236833     1.215772   \n",
       "min     257.000000    69.000000           1.000000     0.020000     0.000000   \n",
       "25%     298.000000    96.000000           2.000000     2.000000     2.035000   \n",
       "50%     309.000000   103.500000           3.000000     3.000000     3.000000   \n",
       "75%     322.000000   111.000000           4.000000     4.000000     4.000000   \n",
       "max     340.000000   120.000000           5.000000     5.000000     5.000000   \n",
       "\n",
       "              CGPA     Research  Admission Points  \n",
       "count  1486.000000  1486.000000       1486.000000  \n",
       "mean      8.347537     0.470390         66.795962  \n",
       "std       0.812251     0.499291         19.277668  \n",
       "min       6.100000     0.000000         34.000000  \n",
       "25%       7.770000     0.000000         48.000000  \n",
       "50%       8.340000     0.000000         67.000000  \n",
       "75%       9.050000     1.000000         84.000000  \n",
       "max       9.920000     1.000000        145.500000  "
      ]
     },
     "execution_count": 33,
     "metadata": {},
     "output_type": "execute_result"
    }
   ],
   "source": [
    "df_num = df_tracks_prep.select_dtypes(['number']).copy()\n",
    "df_num.describe()"
   ]
  },
  {
   "cell_type": "code",
   "execution_count": 34,
   "id": "5d8d352b",
   "metadata": {},
   "outputs": [
    {
     "data": {
      "text/plain": [
       "<seaborn.axisgrid.PairGrid at 0x7fc79aca8af0>"
      ]
     },
     "execution_count": 34,
     "metadata": {},
     "output_type": "execute_result"
    },
    {
     "data": {
      "image/png": "[encoded data removed]",
      "text/plain": [
       "<Figure size 1080x216 with 5 Axes>"
      ]
     },
     "metadata": {
      "needs_background": "light"
     },
     "output_type": "display_data"
    },
    {
     "data": {
      "image/png": "[encoded data removed]",
      "text/plain": [
       "<Figure size 432x216 with 2 Axes>"
      ]
     },
     "metadata": {
      "needs_background": "light"
     },
     "output_type": "display_data"
    }
   ],
   "source": [
    "# Diagramas de disperción con respecto a la variable objetivo\n",
    "\n",
    "sns.pairplot(df_tracks_prep, height=3, y_vars = 'Admission Points', x_vars = df_tracks_prep.columns[0:5], kind='scatter')\n",
    "sns.pairplot(df_tracks_prep, height=3, y_vars = 'Admission Points', x_vars = df_tracks_prep.columns[5:7], kind='scatter')"
   ]
  },
  {
   "cell_type": "code",
   "execution_count": 35,
   "id": "6181b63a",
   "metadata": {},
   "outputs": [
    {
     "data": {
      "image/png": "[encoded data removed]",
      "text/plain": [
       "<Figure size 1368x1080 with 2 Axes>"
      ]
     },
     "metadata": {
      "needs_background": "light"
     },
     "output_type": "display_data"
    }
   ],
   "source": [
    "# Matriz de correlaciones para ver la relación entre variables\n",
    "\n",
    "f = plt.figure(figsize=(19, 15))\n",
    "plt.matshow(df_num.corr(), fignum=f.number, cmap = 'seismic')\n",
    "plt.xticks(range(df_num.select_dtypes(['number']).shape[1]), df_num.select_dtypes(['number']).columns, fontsize=14, rotation=45)\n",
    "plt.yticks(range(df_num.select_dtypes(['number']).shape[1]), df_num.select_dtypes(['number']).columns, fontsize=14)\n",
    "cb = plt.colorbar()\n",
    "_ = cb.ax.tick_params(labelsize=14)"
   ]
  },
  {
   "cell_type": "code",
   "execution_count": 36,
   "id": "6b88d97d",
   "metadata": {
    "scrolled": true
   },
   "outputs": [
    {
     "data": {
      "text/html": [
       "<div>\n",
       "<style scoped>\n",
       "    .dataframe tbody tr th:only-of-type {\n",
       "        vertical-align: middle;\n",
       "    }\n",
       "\n",
       "    .dataframe tbody tr th {\n",
       "        vertical-align: top;\n",
       "    }\n",
       "\n",
       "    .dataframe thead th {\n",
       "        text-align: right;\n",
       "    }\n",
       "</style>\n",
       "<table border=\"1\" class=\"dataframe\">\n",
       "  <thead>\n",
       "    <tr style=\"text-align: right;\">\n",
       "      <th></th>\n",
       "      <th>GRE Score</th>\n",
       "      <th>TOEFL Score</th>\n",
       "      <th>University Rating</th>\n",
       "      <th>SOP</th>\n",
       "      <th>LOR</th>\n",
       "      <th>CGPA</th>\n",
       "      <th>Research</th>\n",
       "      <th>Admission Points</th>\n",
       "      <th>CGPA_2</th>\n",
       "    </tr>\n",
       "    <tr>\n",
       "      <th>Serial No.</th>\n",
       "      <th></th>\n",
       "      <th></th>\n",
       "      <th></th>\n",
       "      <th></th>\n",
       "      <th></th>\n",
       "      <th></th>\n",
       "      <th></th>\n",
       "      <th></th>\n",
       "      <th></th>\n",
       "    </tr>\n",
       "  </thead>\n",
       "  <tbody>\n",
       "    <tr>\n",
       "      <th>479</th>\n",
       "      <td>327</td>\n",
       "      <td>113</td>\n",
       "      <td>4</td>\n",
       "      <td>4.00</td>\n",
       "      <td>2.77</td>\n",
       "      <td>8.88</td>\n",
       "      <td>1</td>\n",
       "      <td>84.47</td>\n",
       "      <td>-0.000139</td>\n",
       "    </tr>\n",
       "    <tr>\n",
       "      <th>446</th>\n",
       "      <td>301</td>\n",
       "      <td>92</td>\n",
       "      <td>1</td>\n",
       "      <td>1.85</td>\n",
       "      <td>1.50</td>\n",
       "      <td>7.71</td>\n",
       "      <td>0</td>\n",
       "      <td>45.08</td>\n",
       "      <td>-0.000448</td>\n",
       "    </tr>\n",
       "    <tr>\n",
       "      <th>336</th>\n",
       "      <td>297</td>\n",
       "      <td>100</td>\n",
       "      <td>1</td>\n",
       "      <td>2.41</td>\n",
       "      <td>1.59</td>\n",
       "      <td>7.89</td>\n",
       "      <td>0</td>\n",
       "      <td>47.42</td>\n",
       "      <td>-0.000374</td>\n",
       "    </tr>\n",
       "    <tr>\n",
       "      <th>20</th>\n",
       "      <td>303</td>\n",
       "      <td>98</td>\n",
       "      <td>3</td>\n",
       "      <td>3.50</td>\n",
       "      <td>3.00</td>\n",
       "      <td>8.50</td>\n",
       "      <td>0</td>\n",
       "      <td>62.00</td>\n",
       "      <td>-0.000203</td>\n",
       "    </tr>\n",
       "    <tr>\n",
       "      <th>432</th>\n",
       "      <td>320</td>\n",
       "      <td>94</td>\n",
       "      <td>2</td>\n",
       "      <td>1.38</td>\n",
       "      <td>3.50</td>\n",
       "      <td>8.78</td>\n",
       "      <td>1</td>\n",
       "      <td>73.00</td>\n",
       "      <td>-0.000154</td>\n",
       "    </tr>\n",
       "    <tr>\n",
       "      <th>...</th>\n",
       "      <td>...</td>\n",
       "      <td>...</td>\n",
       "      <td>...</td>\n",
       "      <td>...</td>\n",
       "      <td>...</td>\n",
       "      <td>...</td>\n",
       "      <td>...</td>\n",
       "      <td>...</td>\n",
       "      <td>...</td>\n",
       "    </tr>\n",
       "    <tr>\n",
       "      <th>114</th>\n",
       "      <td>298</td>\n",
       "      <td>99</td>\n",
       "      <td>2</td>\n",
       "      <td>3.00</td>\n",
       "      <td>3.76</td>\n",
       "      <td>7.44</td>\n",
       "      <td>0</td>\n",
       "      <td>47.50</td>\n",
       "      <td>-0.000587</td>\n",
       "    </tr>\n",
       "    <tr>\n",
       "      <th>274</th>\n",
       "      <td>312</td>\n",
       "      <td>77</td>\n",
       "      <td>1</td>\n",
       "      <td>1.00</td>\n",
       "      <td>1.71</td>\n",
       "      <td>8.01</td>\n",
       "      <td>1</td>\n",
       "      <td>52.00</td>\n",
       "      <td>-0.000332</td>\n",
       "    </tr>\n",
       "    <tr>\n",
       "      <th>149</th>\n",
       "      <td>292</td>\n",
       "      <td>99</td>\n",
       "      <td>1</td>\n",
       "      <td>2.65</td>\n",
       "      <td>2.91</td>\n",
       "      <td>6.63</td>\n",
       "      <td>0</td>\n",
       "      <td>47.54</td>\n",
       "      <td>-0.001320</td>\n",
       "    </tr>\n",
       "    <tr>\n",
       "      <th>102</th>\n",
       "      <td>312</td>\n",
       "      <td>105</td>\n",
       "      <td>2</td>\n",
       "      <td>4.41</td>\n",
       "      <td>3.00</td>\n",
       "      <td>8.37</td>\n",
       "      <td>0</td>\n",
       "      <td>64.00</td>\n",
       "      <td>-0.000232</td>\n",
       "    </tr>\n",
       "    <tr>\n",
       "      <th>371</th>\n",
       "      <td>310</td>\n",
       "      <td>71</td>\n",
       "      <td>2</td>\n",
       "      <td>2.50</td>\n",
       "      <td>3.89</td>\n",
       "      <td>8.24</td>\n",
       "      <td>0</td>\n",
       "      <td>72.00</td>\n",
       "      <td>-0.000264</td>\n",
       "    </tr>\n",
       "  </tbody>\n",
       "</table>\n",
       "<p>1486 rows × 9 columns</p>\n",
       "</div>"
      ],
      "text/plain": [
       "            GRE Score  TOEFL Score  University Rating   SOP  LOR   CGPA  \\\n",
       "Serial No.                                                                \n",
       "479               327          113                  4  4.00  2.77  8.88   \n",
       "446               301           92                  1  1.85  1.50  7.71   \n",
       "336               297          100                  1  2.41  1.59  7.89   \n",
       "20                303           98                  3  3.50  3.00  8.50   \n",
       "432               320           94                  2  1.38  3.50  8.78   \n",
       "...               ...          ...                ...   ...   ...   ...   \n",
       "114               298           99                  2  3.00  3.76  7.44   \n",
       "274               312           77                  1  1.00  1.71  8.01   \n",
       "149               292           99                  1  2.65  2.91  6.63   \n",
       "102               312          105                  2  4.41  3.00  8.37   \n",
       "371               310           71                  2  2.50  3.89  8.24   \n",
       "\n",
       "            Research  Admission Points    CGPA_2  \n",
       "Serial No.                                        \n",
       "479                1             84.47 -0.000139  \n",
       "446                0             45.08 -0.000448  \n",
       "336                0             47.42 -0.000374  \n",
       "20                 0             62.00 -0.000203  \n",
       "432                1             73.00 -0.000154  \n",
       "...              ...               ...       ...  \n",
       "114                0             47.50 -0.000587  \n",
       "274                1             52.00 -0.000332  \n",
       "149                0             47.54 -0.001320  \n",
       "102                0             64.00 -0.000232  \n",
       "371                0             72.00 -0.000264  \n",
       "\n",
       "[1486 rows x 9 columns]"
      ]
     },
     "execution_count": 36,
     "metadata": {},
     "output_type": "execute_result"
    }
   ],
   "source": [
    "df_tracks_prep['CGPA_2'] = -np.exp(-df_tracks_prep['CGPA'])\n",
    "df_recent['CGPA_2'] = -np.exp(-df_recent['CGPA'])\n",
    "df_tracks_prep"
   ]
  },
  {
   "cell_type": "code",
   "execution_count": 37,
   "id": "6a356661",
   "metadata": {},
   "outputs": [
    {
     "data": {
      "text/html": [
       "<div>\n",
       "<style scoped>\n",
       "    .dataframe tbody tr th:only-of-type {\n",
       "        vertical-align: middle;\n",
       "    }\n",
       "\n",
       "    .dataframe tbody tr th {\n",
       "        vertical-align: top;\n",
       "    }\n",
       "\n",
       "    .dataframe thead th {\n",
       "        text-align: right;\n",
       "    }\n",
       "</style>\n",
       "<table border=\"1\" class=\"dataframe\">\n",
       "  <thead>\n",
       "    <tr style=\"text-align: right;\">\n",
       "      <th></th>\n",
       "      <th>GRE Score</th>\n",
       "      <th>TOEFL Score</th>\n",
       "      <th>University Rating</th>\n",
       "      <th>SOP</th>\n",
       "      <th>LOR</th>\n",
       "      <th>CGPA</th>\n",
       "      <th>Research</th>\n",
       "      <th>Admission Points</th>\n",
       "      <th>CGPA_2</th>\n",
       "      <th>GRE Score_2</th>\n",
       "    </tr>\n",
       "    <tr>\n",
       "      <th>Serial No.</th>\n",
       "      <th></th>\n",
       "      <th></th>\n",
       "      <th></th>\n",
       "      <th></th>\n",
       "      <th></th>\n",
       "      <th></th>\n",
       "      <th></th>\n",
       "      <th></th>\n",
       "      <th></th>\n",
       "      <th></th>\n",
       "    </tr>\n",
       "  </thead>\n",
       "  <tbody>\n",
       "    <tr>\n",
       "      <th>479</th>\n",
       "      <td>327</td>\n",
       "      <td>113</td>\n",
       "      <td>4</td>\n",
       "      <td>4.00</td>\n",
       "      <td>2.77</td>\n",
       "      <td>8.88</td>\n",
       "      <td>1</td>\n",
       "      <td>84.47</td>\n",
       "      <td>2.979933</td>\n",
       "      <td>18.083141</td>\n",
       "    </tr>\n",
       "    <tr>\n",
       "      <th>446</th>\n",
       "      <td>301</td>\n",
       "      <td>92</td>\n",
       "      <td>1</td>\n",
       "      <td>1.85</td>\n",
       "      <td>1.50</td>\n",
       "      <td>7.71</td>\n",
       "      <td>0</td>\n",
       "      <td>45.08</td>\n",
       "      <td>2.776689</td>\n",
       "      <td>17.349352</td>\n",
       "    </tr>\n",
       "    <tr>\n",
       "      <th>336</th>\n",
       "      <td>297</td>\n",
       "      <td>100</td>\n",
       "      <td>1</td>\n",
       "      <td>2.41</td>\n",
       "      <td>1.59</td>\n",
       "      <td>7.89</td>\n",
       "      <td>0</td>\n",
       "      <td>47.42</td>\n",
       "      <td>2.808914</td>\n",
       "      <td>17.233688</td>\n",
       "    </tr>\n",
       "    <tr>\n",
       "      <th>20</th>\n",
       "      <td>303</td>\n",
       "      <td>98</td>\n",
       "      <td>3</td>\n",
       "      <td>3.50</td>\n",
       "      <td>3.00</td>\n",
       "      <td>8.50</td>\n",
       "      <td>0</td>\n",
       "      <td>62.00</td>\n",
       "      <td>2.915476</td>\n",
       "      <td>17.406895</td>\n",
       "    </tr>\n",
       "    <tr>\n",
       "      <th>432</th>\n",
       "      <td>320</td>\n",
       "      <td>94</td>\n",
       "      <td>2</td>\n",
       "      <td>1.38</td>\n",
       "      <td>3.50</td>\n",
       "      <td>8.78</td>\n",
       "      <td>1</td>\n",
       "      <td>73.00</td>\n",
       "      <td>2.963106</td>\n",
       "      <td>17.888544</td>\n",
       "    </tr>\n",
       "    <tr>\n",
       "      <th>...</th>\n",
       "      <td>...</td>\n",
       "      <td>...</td>\n",
       "      <td>...</td>\n",
       "      <td>...</td>\n",
       "      <td>...</td>\n",
       "      <td>...</td>\n",
       "      <td>...</td>\n",
       "      <td>...</td>\n",
       "      <td>...</td>\n",
       "      <td>...</td>\n",
       "    </tr>\n",
       "    <tr>\n",
       "      <th>114</th>\n",
       "      <td>298</td>\n",
       "      <td>99</td>\n",
       "      <td>2</td>\n",
       "      <td>3.00</td>\n",
       "      <td>3.76</td>\n",
       "      <td>7.44</td>\n",
       "      <td>0</td>\n",
       "      <td>47.50</td>\n",
       "      <td>2.727636</td>\n",
       "      <td>17.262677</td>\n",
       "    </tr>\n",
       "    <tr>\n",
       "      <th>274</th>\n",
       "      <td>312</td>\n",
       "      <td>77</td>\n",
       "      <td>1</td>\n",
       "      <td>1.00</td>\n",
       "      <td>1.71</td>\n",
       "      <td>8.01</td>\n",
       "      <td>1</td>\n",
       "      <td>52.00</td>\n",
       "      <td>2.830194</td>\n",
       "      <td>17.663522</td>\n",
       "    </tr>\n",
       "    <tr>\n",
       "      <th>149</th>\n",
       "      <td>292</td>\n",
       "      <td>99</td>\n",
       "      <td>1</td>\n",
       "      <td>2.65</td>\n",
       "      <td>2.91</td>\n",
       "      <td>6.63</td>\n",
       "      <td>0</td>\n",
       "      <td>47.54</td>\n",
       "      <td>2.574879</td>\n",
       "      <td>17.088007</td>\n",
       "    </tr>\n",
       "    <tr>\n",
       "      <th>102</th>\n",
       "      <td>312</td>\n",
       "      <td>105</td>\n",
       "      <td>2</td>\n",
       "      <td>4.41</td>\n",
       "      <td>3.00</td>\n",
       "      <td>8.37</td>\n",
       "      <td>0</td>\n",
       "      <td>64.00</td>\n",
       "      <td>2.893095</td>\n",
       "      <td>17.663522</td>\n",
       "    </tr>\n",
       "    <tr>\n",
       "      <th>371</th>\n",
       "      <td>310</td>\n",
       "      <td>71</td>\n",
       "      <td>2</td>\n",
       "      <td>2.50</td>\n",
       "      <td>3.89</td>\n",
       "      <td>8.24</td>\n",
       "      <td>0</td>\n",
       "      <td>72.00</td>\n",
       "      <td>2.870540</td>\n",
       "      <td>17.606817</td>\n",
       "    </tr>\n",
       "  </tbody>\n",
       "</table>\n",
       "<p>1486 rows × 10 columns</p>\n",
       "</div>"
      ],
      "text/plain": [
       "            GRE Score  TOEFL Score  University Rating   SOP  LOR   CGPA  \\\n",
       "Serial No.                                                                \n",
       "479               327          113                  4  4.00  2.77  8.88   \n",
       "446               301           92                  1  1.85  1.50  7.71   \n",
       "336               297          100                  1  2.41  1.59  7.89   \n",
       "20                303           98                  3  3.50  3.00  8.50   \n",
       "432               320           94                  2  1.38  3.50  8.78   \n",
       "...               ...          ...                ...   ...   ...   ...   \n",
       "114               298           99                  2  3.00  3.76  7.44   \n",
       "274               312           77                  1  1.00  1.71  8.01   \n",
       "149               292           99                  1  2.65  2.91  6.63   \n",
       "102               312          105                  2  4.41  3.00  8.37   \n",
       "371               310           71                  2  2.50  3.89  8.24   \n",
       "\n",
       "            Research  Admission Points    CGPA_2  GRE Score_2  \n",
       "Serial No.                                                     \n",
       "479                1             84.47  2.979933    18.083141  \n",
       "446                0             45.08  2.776689    17.349352  \n",
       "336                0             47.42  2.808914    17.233688  \n",
       "20                 0             62.00  2.915476    17.406895  \n",
       "432                1             73.00  2.963106    17.888544  \n",
       "...              ...               ...       ...          ...  \n",
       "114                0             47.50  2.727636    17.262677  \n",
       "274                1             52.00  2.830194    17.663522  \n",
       "149                0             47.54  2.574879    17.088007  \n",
       "102                0             64.00  2.893095    17.663522  \n",
       "371                0             72.00  2.870540    17.606817  \n",
       "\n",
       "[1486 rows x 10 columns]"
      ]
     },
     "execution_count": 37,
     "metadata": {},
     "output_type": "execute_result"
    }
   ],
   "source": [
    "df_tracks_prep['CGPA_2'] = np.sqrt(df_tracks_prep['CGPA'])\n",
    "df_recent['CGPA_2'] = np.sqrt(df_recent['CGPA'])\n",
    "df_tracks_prep['GRE Score_2'] = np.sqrt(df_tracks_prep['GRE Score'])\n",
    "df_recent['GRE Score_2'] = np.sqrt(df_recent['GRE Score'])\n",
    "df_tracks_prep"
   ]
  },
  {
   "cell_type": "code",
   "execution_count": 38,
   "id": "6b00363f",
   "metadata": {},
   "outputs": [],
   "source": [
    "# Se usa un transformador para seleccionar unicamente las columnas que se quieren usar\n",
    "\n",
    "selected_cols = ['University Rating','CGPA_2','Research','GRE Score_2']\n",
    "\n",
    "pre = [('initial',ColumnTransformer([(\"selector\", 'passthrough',selected_cols)]))]"
   ]
  },
  {
   "cell_type": "code",
   "execution_count": 39,
   "id": "26872ab4",
   "metadata": {},
   "outputs": [
    {
     "data": {
      "text/html": [
       "<div>\n",
       "<style scoped>\n",
       "    .dataframe tbody tr th:only-of-type {\n",
       "        vertical-align: middle;\n",
       "    }\n",
       "\n",
       "    .dataframe tbody tr th {\n",
       "        vertical-align: top;\n",
       "    }\n",
       "\n",
       "    .dataframe thead th {\n",
       "        text-align: right;\n",
       "    }\n",
       "</style>\n",
       "<table border=\"1\" class=\"dataframe\">\n",
       "  <thead>\n",
       "    <tr style=\"text-align: right;\">\n",
       "      <th></th>\n",
       "      <th>GRE Score</th>\n",
       "      <th>TOEFL Score</th>\n",
       "      <th>University Rating</th>\n",
       "      <th>SOP</th>\n",
       "      <th>LOR</th>\n",
       "      <th>CGPA</th>\n",
       "      <th>Research</th>\n",
       "      <th>Admission Points</th>\n",
       "      <th>CGPA_2</th>\n",
       "      <th>GRE Score_2</th>\n",
       "    </tr>\n",
       "  </thead>\n",
       "  <tbody>\n",
       "    <tr>\n",
       "      <th>count</th>\n",
       "      <td>1486.000000</td>\n",
       "      <td>1486.000000</td>\n",
       "      <td>1486.000000</td>\n",
       "      <td>1486.000000</td>\n",
       "      <td>1486.000000</td>\n",
       "      <td>1486.000000</td>\n",
       "      <td>1486.000000</td>\n",
       "      <td>1486.000000</td>\n",
       "      <td>1486.000000</td>\n",
       "      <td>1486.000000</td>\n",
       "    </tr>\n",
       "    <tr>\n",
       "      <th>mean</th>\n",
       "      <td>0.610769</td>\n",
       "      <td>0.638297</td>\n",
       "      <td>0.470222</td>\n",
       "      <td>0.593729</td>\n",
       "      <td>0.603793</td>\n",
       "      <td>0.588360</td>\n",
       "      <td>0.470390</td>\n",
       "      <td>0.294134</td>\n",
       "      <td>0.611826</td>\n",
       "      <td>0.623958</td>\n",
       "    </tr>\n",
       "    <tr>\n",
       "      <th>std</th>\n",
       "      <td>0.215593</td>\n",
       "      <td>0.245124</td>\n",
       "      <td>0.310717</td>\n",
       "      <td>0.248360</td>\n",
       "      <td>0.243154</td>\n",
       "      <td>0.212631</td>\n",
       "      <td>0.499291</td>\n",
       "      <td>0.172894</td>\n",
       "      <td>0.208673</td>\n",
       "      <td>0.214145</td>\n",
       "    </tr>\n",
       "    <tr>\n",
       "      <th>min</th>\n",
       "      <td>0.000000</td>\n",
       "      <td>0.000000</td>\n",
       "      <td>0.000000</td>\n",
       "      <td>0.000000</td>\n",
       "      <td>0.000000</td>\n",
       "      <td>0.000000</td>\n",
       "      <td>0.000000</td>\n",
       "      <td>0.000000</td>\n",
       "      <td>0.000000</td>\n",
       "      <td>0.000000</td>\n",
       "    </tr>\n",
       "    <tr>\n",
       "      <th>25%</th>\n",
       "      <td>0.493976</td>\n",
       "      <td>0.529412</td>\n",
       "      <td>0.250000</td>\n",
       "      <td>0.397590</td>\n",
       "      <td>0.407000</td>\n",
       "      <td>0.437173</td>\n",
       "      <td>0.000000</td>\n",
       "      <td>0.125561</td>\n",
       "      <td>0.467286</td>\n",
       "      <td>0.511430</td>\n",
       "    </tr>\n",
       "    <tr>\n",
       "      <th>50%</th>\n",
       "      <td>0.626506</td>\n",
       "      <td>0.676471</td>\n",
       "      <td>0.500000</td>\n",
       "      <td>0.598394</td>\n",
       "      <td>0.600000</td>\n",
       "      <td>0.586387</td>\n",
       "      <td>0.000000</td>\n",
       "      <td>0.295964</td>\n",
       "      <td>0.615029</td>\n",
       "      <td>0.642550</td>\n",
       "    </tr>\n",
       "    <tr>\n",
       "      <th>75%</th>\n",
       "      <td>0.783133</td>\n",
       "      <td>0.823529</td>\n",
       "      <td>0.750000</td>\n",
       "      <td>0.799197</td>\n",
       "      <td>0.800000</td>\n",
       "      <td>0.772251</td>\n",
       "      <td>1.000000</td>\n",
       "      <td>0.448430</td>\n",
       "      <td>0.792168</td>\n",
       "      <td>0.794536</td>\n",
       "    </tr>\n",
       "    <tr>\n",
       "      <th>max</th>\n",
       "      <td>1.000000</td>\n",
       "      <td>1.000000</td>\n",
       "      <td>1.000000</td>\n",
       "      <td>1.000000</td>\n",
       "      <td>1.000000</td>\n",
       "      <td>1.000000</td>\n",
       "      <td>1.000000</td>\n",
       "      <td>1.000000</td>\n",
       "      <td>1.000000</td>\n",
       "      <td>1.000000</td>\n",
       "    </tr>\n",
       "  </tbody>\n",
       "</table>\n",
       "</div>"
      ],
      "text/plain": [
       "         GRE Score  TOEFL Score  University Rating          SOP         LOR   \\\n",
       "count  1486.000000  1486.000000        1486.000000  1486.000000  1486.000000   \n",
       "mean      0.610769     0.638297           0.470222     0.593729     0.603793   \n",
       "std       0.215593     0.245124           0.310717     0.248360     0.243154   \n",
       "min       0.000000     0.000000           0.000000     0.000000     0.000000   \n",
       "25%       0.493976     0.529412           0.250000     0.397590     0.407000   \n",
       "50%       0.626506     0.676471           0.500000     0.598394     0.600000   \n",
       "75%       0.783133     0.823529           0.750000     0.799197     0.800000   \n",
       "max       1.000000     1.000000           1.000000     1.000000     1.000000   \n",
       "\n",
       "              CGPA     Research  Admission Points       CGPA_2  GRE Score_2  \n",
       "count  1486.000000  1486.000000       1486.000000  1486.000000  1486.000000  \n",
       "mean      0.588360     0.470390          0.294134     0.611826     0.623958  \n",
       "std       0.212631     0.499291          0.172894     0.208673     0.214145  \n",
       "min       0.000000     0.000000          0.000000     0.000000     0.000000  \n",
       "25%       0.437173     0.000000          0.125561     0.467286     0.511430  \n",
       "50%       0.586387     0.000000          0.295964     0.615029     0.642550  \n",
       "75%       0.772251     1.000000          0.448430     0.792168     0.794536  \n",
       "max       1.000000     1.000000          1.000000     1.000000     1.000000  "
      ]
     },
     "execution_count": 39,
     "metadata": {},
     "output_type": "execute_result"
    }
   ],
   "source": [
    "# Se normaliza los datos\n",
    "\n",
    "mms = MinMaxScaler()\n",
    "\n",
    "\n",
    "df_tracks_prep_norm = mms.fit_transform(df_tracks_prep.select_dtypes(include=np.number).copy())\n",
    "saved_cols = df_tracks_prep.select_dtypes(include=np.number).columns\n",
    "\n",
    "df_tracks_prep_norm = pd.DataFrame(df_tracks_prep_norm, columns =saved_cols)\n",
    "\n",
    "df_tracks_prep_norm.describe()"
   ]
  },
  {
   "cell_type": "code",
   "execution_count": 40,
   "id": "e94916ea",
   "metadata": {},
   "outputs": [
    {
     "data": {
      "text/html": [
       "<div>\n",
       "<style scoped>\n",
       "    .dataframe tbody tr th:only-of-type {\n",
       "        vertical-align: middle;\n",
       "    }\n",
       "\n",
       "    .dataframe tbody tr th {\n",
       "        vertical-align: top;\n",
       "    }\n",
       "\n",
       "    .dataframe thead th {\n",
       "        text-align: right;\n",
       "    }\n",
       "</style>\n",
       "<table border=\"1\" class=\"dataframe\">\n",
       "  <thead>\n",
       "    <tr style=\"text-align: right;\">\n",
       "      <th></th>\n",
       "      <th>GRE Score</th>\n",
       "      <th>TOEFL Score</th>\n",
       "      <th>University Rating</th>\n",
       "      <th>SOP</th>\n",
       "      <th>LOR</th>\n",
       "      <th>CGPA</th>\n",
       "      <th>Research</th>\n",
       "      <th>Admission Points</th>\n",
       "    </tr>\n",
       "  </thead>\n",
       "  <tbody>\n",
       "    <tr>\n",
       "      <th>count</th>\n",
       "      <td>1569.000000</td>\n",
       "      <td>1569.000000</td>\n",
       "      <td>1569.000000</td>\n",
       "      <td>1569.000000</td>\n",
       "      <td>1569.000000</td>\n",
       "      <td>1569.000000</td>\n",
       "      <td>1569.000000</td>\n",
       "      <td>1504.000000</td>\n",
       "    </tr>\n",
       "    <tr>\n",
       "      <th>mean</th>\n",
       "      <td>307.669216</td>\n",
       "      <td>101.632250</td>\n",
       "      <td>2.873805</td>\n",
       "      <td>2.980848</td>\n",
       "      <td>3.013907</td>\n",
       "      <td>8.342231</td>\n",
       "      <td>0.469726</td>\n",
       "      <td>66.744328</td>\n",
       "    </tr>\n",
       "    <tr>\n",
       "      <th>std</th>\n",
       "      <td>17.857559</td>\n",
       "      <td>12.386238</td>\n",
       "      <td>1.245147</td>\n",
       "      <td>1.234802</td>\n",
       "      <td>1.214377</td>\n",
       "      <td>0.812729</td>\n",
       "      <td>0.499242</td>\n",
       "      <td>19.253029</td>\n",
       "    </tr>\n",
       "    <tr>\n",
       "      <th>min</th>\n",
       "      <td>257.000000</td>\n",
       "      <td>69.000000</td>\n",
       "      <td>1.000000</td>\n",
       "      <td>0.020000</td>\n",
       "      <td>0.000000</td>\n",
       "      <td>6.100000</td>\n",
       "      <td>0.000000</td>\n",
       "      <td>34.000000</td>\n",
       "    </tr>\n",
       "    <tr>\n",
       "      <th>25%</th>\n",
       "      <td>298.000000</td>\n",
       "      <td>96.000000</td>\n",
       "      <td>2.000000</td>\n",
       "      <td>2.000000</td>\n",
       "      <td>2.050000</td>\n",
       "      <td>7.750000</td>\n",
       "      <td>0.000000</td>\n",
       "      <td>48.000000</td>\n",
       "    </tr>\n",
       "    <tr>\n",
       "      <th>50%</th>\n",
       "      <td>309.000000</td>\n",
       "      <td>104.000000</td>\n",
       "      <td>3.000000</td>\n",
       "      <td>3.000000</td>\n",
       "      <td>3.000000</td>\n",
       "      <td>8.330000</td>\n",
       "      <td>0.000000</td>\n",
       "      <td>67.000000</td>\n",
       "    </tr>\n",
       "    <tr>\n",
       "      <th>75%</th>\n",
       "      <td>322.000000</td>\n",
       "      <td>111.000000</td>\n",
       "      <td>4.000000</td>\n",
       "      <td>4.000000</td>\n",
       "      <td>4.000000</td>\n",
       "      <td>9.040000</td>\n",
       "      <td>1.000000</td>\n",
       "      <td>84.000000</td>\n",
       "    </tr>\n",
       "    <tr>\n",
       "      <th>max</th>\n",
       "      <td>340.000000</td>\n",
       "      <td>120.000000</td>\n",
       "      <td>5.000000</td>\n",
       "      <td>5.000000</td>\n",
       "      <td>5.000000</td>\n",
       "      <td>9.920000</td>\n",
       "      <td>1.000000</td>\n",
       "      <td>145.500000</td>\n",
       "    </tr>\n",
       "  </tbody>\n",
       "</table>\n",
       "</div>"
      ],
      "text/plain": [
       "         GRE Score  TOEFL Score  University Rating          SOP         LOR   \\\n",
       "count  1569.000000  1569.000000        1569.000000  1569.000000  1569.000000   \n",
       "mean    307.669216   101.632250           2.873805     2.980848     3.013907   \n",
       "std      17.857559    12.386238           1.245147     1.234802     1.214377   \n",
       "min     257.000000    69.000000           1.000000     0.020000     0.000000   \n",
       "25%     298.000000    96.000000           2.000000     2.000000     2.050000   \n",
       "50%     309.000000   104.000000           3.000000     3.000000     3.000000   \n",
       "75%     322.000000   111.000000           4.000000     4.000000     4.000000   \n",
       "max     340.000000   120.000000           5.000000     5.000000     5.000000   \n",
       "\n",
       "              CGPA     Research  Admission Points  \n",
       "count  1569.000000  1569.000000       1504.000000  \n",
       "mean      8.342231     0.469726         66.744328  \n",
       "std       0.812729     0.499242         19.253029  \n",
       "min       6.100000     0.000000         34.000000  \n",
       "25%       7.750000     0.000000         48.000000  \n",
       "50%       8.330000     0.000000         67.000000  \n",
       "75%       9.040000     1.000000         84.000000  \n",
       "max       9.920000     1.000000        145.500000  "
      ]
     },
     "execution_count": 40,
     "metadata": {},
     "output_type": "execute_result"
    }
   ],
   "source": [
    "df_tracks_prep = df_tracks_prep_norm\n",
    "\n",
    "df_tracks.describe()"
   ]
  },
  {
   "cell_type": "code",
   "execution_count": 41,
   "id": "e853ed4e",
   "metadata": {},
   "outputs": [],
   "source": [
    "# Se genera el modelo\n",
    "\n",
    "model = [('model', LinearRegression())]"
   ]
  },
  {
   "cell_type": "code",
   "execution_count": 42,
   "id": "3868f140",
   "metadata": {},
   "outputs": [],
   "source": [
    "# Se decalra el pipeline\n",
    "\n",
    "pipeline = Pipeline(pre+model)"
   ]
  },
  {
   "cell_type": "code",
   "execution_count": 43,
   "id": "d682d511",
   "metadata": {},
   "outputs": [
    {
     "data": {
      "text/plain": [
       "Index(['GRE Score', 'TOEFL Score', 'University Rating', 'SOP', 'LOR ', 'CGPA',\n",
       "       'Research', 'Admission Points', 'CGPA_2', 'GRE Score_2'],\n",
       "      dtype='object')"
      ]
     },
     "execution_count": 43,
     "metadata": {},
     "output_type": "execute_result"
    }
   ],
   "source": [
    "df_tracks_prep.columns"
   ]
  },
  {
   "cell_type": "code",
   "execution_count": 44,
   "id": "ce260884",
   "metadata": {},
   "outputs": [],
   "source": [
    "# Se extrae las variables explicativas y objetivo para entrenar\n",
    "\n",
    "X = df_tracks_prep[selected_cols]\n",
    "y = df_tracks_prep['Admission Points']\n",
    "\n",
    "pipeline = pipeline.fit(X,y)"
   ]
  },
  {
   "cell_type": "code",
   "execution_count": 45,
   "id": "70d41755",
   "metadata": {},
   "outputs": [
    {
     "data": {
      "text/html": [
       "<div>\n",
       "<style scoped>\n",
       "    .dataframe tbody tr th:only-of-type {\n",
       "        vertical-align: middle;\n",
       "    }\n",
       "\n",
       "    .dataframe tbody tr th {\n",
       "        vertical-align: top;\n",
       "    }\n",
       "\n",
       "    .dataframe thead th {\n",
       "        text-align: right;\n",
       "    }\n",
       "</style>\n",
       "<table border=\"1\" class=\"dataframe\">\n",
       "  <thead>\n",
       "    <tr style=\"text-align: right;\">\n",
       "      <th></th>\n",
       "      <th>University Rating</th>\n",
       "      <th>CGPA_2</th>\n",
       "      <th>Research</th>\n",
       "      <th>GRE Score_2</th>\n",
       "    </tr>\n",
       "  </thead>\n",
       "  <tbody>\n",
       "    <tr>\n",
       "      <th>0</th>\n",
       "      <td>0.75</td>\n",
       "      <td>0.750406</td>\n",
       "      <td>1.0</td>\n",
       "      <td>0.852173</td>\n",
       "    </tr>\n",
       "    <tr>\n",
       "      <th>1</th>\n",
       "      <td>0.00</td>\n",
       "      <td>0.451423</td>\n",
       "      <td>0.0</td>\n",
       "      <td>0.547427</td>\n",
       "    </tr>\n",
       "    <tr>\n",
       "      <th>2</th>\n",
       "      <td>0.00</td>\n",
       "      <td>0.498829</td>\n",
       "      <td>0.0</td>\n",
       "      <td>0.499391</td>\n",
       "    </tr>\n",
       "    <tr>\n",
       "      <th>3</th>\n",
       "      <td>0.50</td>\n",
       "      <td>0.655587</td>\n",
       "      <td>0.0</td>\n",
       "      <td>0.571325</td>\n",
       "    </tr>\n",
       "    <tr>\n",
       "      <th>4</th>\n",
       "      <td>0.25</td>\n",
       "      <td>0.725654</td>\n",
       "      <td>1.0</td>\n",
       "      <td>0.771356</td>\n",
       "    </tr>\n",
       "    <tr>\n",
       "      <th>...</th>\n",
       "      <td>...</td>\n",
       "      <td>...</td>\n",
       "      <td>...</td>\n",
       "      <td>...</td>\n",
       "    </tr>\n",
       "    <tr>\n",
       "      <th>1481</th>\n",
       "      <td>0.25</td>\n",
       "      <td>0.379265</td>\n",
       "      <td>0.0</td>\n",
       "      <td>0.511430</td>\n",
       "    </tr>\n",
       "    <tr>\n",
       "      <th>1482</th>\n",
       "      <td>0.00</td>\n",
       "      <td>0.530133</td>\n",
       "      <td>1.0</td>\n",
       "      <td>0.677903</td>\n",
       "    </tr>\n",
       "    <tr>\n",
       "      <th>1483</th>\n",
       "      <td>0.00</td>\n",
       "      <td>0.154550</td>\n",
       "      <td>0.0</td>\n",
       "      <td>0.438889</td>\n",
       "    </tr>\n",
       "    <tr>\n",
       "      <th>1484</th>\n",
       "      <td>0.25</td>\n",
       "      <td>0.622663</td>\n",
       "      <td>0.0</td>\n",
       "      <td>0.677903</td>\n",
       "    </tr>\n",
       "    <tr>\n",
       "      <th>1485</th>\n",
       "      <td>0.25</td>\n",
       "      <td>0.589483</td>\n",
       "      <td>0.0</td>\n",
       "      <td>0.654353</td>\n",
       "    </tr>\n",
       "  </tbody>\n",
       "</table>\n",
       "<p>1486 rows × 4 columns</p>\n",
       "</div>"
      ],
      "text/plain": [
       "      University Rating    CGPA_2  Research  GRE Score_2\n",
       "0                  0.75  0.750406       1.0     0.852173\n",
       "1                  0.00  0.451423       0.0     0.547427\n",
       "2                  0.00  0.498829       0.0     0.499391\n",
       "3                  0.50  0.655587       0.0     0.571325\n",
       "4                  0.25  0.725654       1.0     0.771356\n",
       "...                 ...       ...       ...          ...\n",
       "1481               0.25  0.379265       0.0     0.511430\n",
       "1482               0.00  0.530133       1.0     0.677903\n",
       "1483               0.00  0.154550       0.0     0.438889\n",
       "1484               0.25  0.622663       0.0     0.677903\n",
       "1485               0.25  0.589483       0.0     0.654353\n",
       "\n",
       "[1486 rows x 4 columns]"
      ]
     },
     "execution_count": 45,
     "metadata": {},
     "output_type": "execute_result"
    }
   ],
   "source": [
    "X"
   ]
  },
  {
   "cell_type": "code",
   "execution_count": 46,
   "id": "b1bcd133",
   "metadata": {},
   "outputs": [
    {
     "data": {
      "image/png": "[encoded data removed]",
      "text/plain": [
       "<Figure size 864x288 with 4 Axes>"
      ]
     },
     "metadata": {
      "needs_background": "light"
     },
     "output_type": "display_data"
    }
   ],
   "source": [
    "# Se visualiza la regresión lineal en cada dimensión\n",
    "\n",
    "f, axs = plt.subplots(1, len(selected_cols), sharey=True, figsize = (12,4))\n",
    "\n",
    "for i in range(len(selected_cols)):\n",
    "\n",
    "    pos_col = i\n",
    "    col = selected_cols[pos_col]\n",
    "\n",
    "    # Variable x\n",
    "    x = X[col]\n",
    "    # Pendiente\n",
    "    m = pipeline['model'].coef_[pos_col]\n",
    "    # Interceto\n",
    "    b = pipeline['model'].intercept_\n",
    "\n",
    "    axs[i].plot(x, y, 'o', alpha = 0.1)\n",
    "    axs[i].plot(x, x*m + b)\n",
    "    axs[i].set_title(col)"
   ]
  },
  {
   "cell_type": "code",
   "execution_count": 47,
   "id": "e8be8015",
   "metadata": {},
   "outputs": [
    {
     "data": {
      "text/plain": [
       "['pipeline.joblib']"
      ]
     },
     "execution_count": 47,
     "metadata": {},
     "output_type": "execute_result"
    }
   ],
   "source": [
    "# Usamos la lbreria joblib\n",
    "filename = 'pipeline.joblib'\n",
    "# Se guarda\n",
    "dump(pipeline, filename) "
   ]
  },
  {
   "cell_type": "code",
   "execution_count": 48,
   "id": "6f9b20c9",
   "metadata": {},
   "outputs": [
    {
     "data": {
      "text/plain": [
       "Pipeline(steps=[('initial',\n",
       "                 ColumnTransformer(transformers=[('selector', 'passthrough',\n",
       "                                                  ['University Rating',\n",
       "                                                   'CGPA_2', 'Research',\n",
       "                                                   'GRE Score_2'])])),\n",
       "                ('model', LinearRegression())])"
      ]
     },
     "execution_count": 48,
     "metadata": {},
     "output_type": "execute_result"
    }
   ],
   "source": [
    "# Se lee\n",
    "p2 = load(filename)\n",
    "p2"
   ]
  },
  {
   "cell_type": "code",
   "execution_count": 49,
   "id": "e2c4be3e",
   "metadata": {},
   "outputs": [],
   "source": [
    "# Clasificamos los datos recientes\n",
    "\n",
    "df_recent['Admission Points'] = p2.predict(df_recent)"
   ]
  },
  {
   "cell_type": "code",
   "execution_count": 50,
   "id": "b71329e0",
   "metadata": {},
   "outputs": [
    {
     "data": {
      "text/plain": [
       "<AxesSubplot:xlabel='Admission Points', ylabel='Count'>"
      ]
     },
     "execution_count": 50,
     "metadata": {},
     "output_type": "execute_result"
    },
    {
     "data": {
      "image/png": "[encoded data removed]",
      "text/plain": [
       "<Figure size 432x288 with 1 Axes>"
      ]
     },
     "metadata": {
      "needs_background": "light"
     },
     "output_type": "display_data"
    }
   ],
   "source": [
    "sns.histplot(df_recent['Admission Points'])"
   ]
  },
  {
   "cell_type": "code",
   "execution_count": 51,
   "id": "f4966aab",
   "metadata": {},
   "outputs": [
    {
     "data": {
      "text/plain": [
       "array([0.23797413, 0.1846637 , 0.09864716, 0.09066016])"
      ]
     },
     "execution_count": 51,
     "metadata": {},
     "output_type": "execute_result"
    }
   ],
   "source": [
    "pipeline['model'].coef_"
   ]
  },
  {
   "cell_type": "code",
   "execution_count": 52,
   "id": "5cc6a9cf",
   "metadata": {},
   "outputs": [
    {
     "data": {
      "text/html": [
       "<div>\n",
       "<style scoped>\n",
       "    .dataframe tbody tr th:only-of-type {\n",
       "        vertical-align: middle;\n",
       "    }\n",
       "\n",
       "    .dataframe tbody tr th {\n",
       "        vertical-align: top;\n",
       "    }\n",
       "\n",
       "    .dataframe thead th {\n",
       "        text-align: right;\n",
       "    }\n",
       "</style>\n",
       "<table border=\"1\" class=\"dataframe\">\n",
       "  <thead>\n",
       "    <tr style=\"text-align: right;\">\n",
       "      <th></th>\n",
       "      <th>columns</th>\n",
       "      <th>coef</th>\n",
       "    </tr>\n",
       "  </thead>\n",
       "  <tbody>\n",
       "    <tr>\n",
       "      <th>0</th>\n",
       "      <td>University Rating</td>\n",
       "      <td>0.237974</td>\n",
       "    </tr>\n",
       "    <tr>\n",
       "      <th>1</th>\n",
       "      <td>CGPA_2</td>\n",
       "      <td>0.184664</td>\n",
       "    </tr>\n",
       "    <tr>\n",
       "      <th>2</th>\n",
       "      <td>Research</td>\n",
       "      <td>0.098647</td>\n",
       "    </tr>\n",
       "    <tr>\n",
       "      <th>3</th>\n",
       "      <td>GRE Score_2</td>\n",
       "      <td>0.090660</td>\n",
       "    </tr>\n",
       "  </tbody>\n",
       "</table>\n",
       "</div>"
      ],
      "text/plain": [
       "             columns      coef\n",
       "0  University Rating  0.237974\n",
       "1             CGPA_2  0.184664\n",
       "2           Research  0.098647\n",
       "3        GRE Score_2  0.090660"
      ]
     },
     "execution_count": 52,
     "metadata": {},
     "output_type": "execute_result"
    }
   ],
   "source": [
    "# En DataFrame\n",
    "\n",
    "pd.DataFrame({'columns':selected_cols, 'coef':pipeline['model'].coef_})"
   ]
  },
  {
   "cell_type": "code",
   "execution_count": 53,
   "id": "9c7e9659",
   "metadata": {},
   "outputs": [],
   "source": [
    "# Extraemos las variables explicativas y objetivo para entrenar\n",
    "\n",
    "X = df_tracks_prep.drop('Admission Points', axis = 1)\n",
    "y = df_tracks_prep['Admission Points']\n",
    "\n",
    "pipeline = pipeline.fit(X,y)"
   ]
  },
  {
   "cell_type": "code",
   "execution_count": 54,
   "id": "e839aec5",
   "metadata": {},
   "outputs": [
    {
     "data": {
      "text/html": [
       "<div>\n",
       "<style scoped>\n",
       "    .dataframe tbody tr th:only-of-type {\n",
       "        vertical-align: middle;\n",
       "    }\n",
       "\n",
       "    .dataframe tbody tr th {\n",
       "        vertical-align: top;\n",
       "    }\n",
       "\n",
       "    .dataframe thead th {\n",
       "        text-align: right;\n",
       "    }\n",
       "</style>\n",
       "<table border=\"1\" class=\"dataframe\">\n",
       "  <thead>\n",
       "    <tr style=\"text-align: right;\">\n",
       "      <th></th>\n",
       "      <th>columns</th>\n",
       "      <th>coef</th>\n",
       "    </tr>\n",
       "  </thead>\n",
       "  <tbody>\n",
       "    <tr>\n",
       "      <th>0</th>\n",
       "      <td>University Rating</td>\n",
       "      <td>0.237974</td>\n",
       "    </tr>\n",
       "    <tr>\n",
       "      <th>1</th>\n",
       "      <td>CGPA_2</td>\n",
       "      <td>0.184664</td>\n",
       "    </tr>\n",
       "    <tr>\n",
       "      <th>2</th>\n",
       "      <td>Research</td>\n",
       "      <td>0.098647</td>\n",
       "    </tr>\n",
       "    <tr>\n",
       "      <th>3</th>\n",
       "      <td>GRE Score_2</td>\n",
       "      <td>0.090660</td>\n",
       "    </tr>\n",
       "  </tbody>\n",
       "</table>\n",
       "</div>"
      ],
      "text/plain": [
       "             columns      coef\n",
       "0  University Rating  0.237974\n",
       "1             CGPA_2  0.184664\n",
       "2           Research  0.098647\n",
       "3        GRE Score_2  0.090660"
      ]
     },
     "execution_count": 54,
     "metadata": {},
     "output_type": "execute_result"
    }
   ],
   "source": [
    "# Vuelve a imprimir los coeficientes\n",
    "\n",
    "pd.DataFrame({'columns':selected_cols, 'coef':pipeline['model'].coef_})"
   ]
  },
  {
   "cell_type": "markdown",
   "id": "575a03ec",
   "metadata": {},
   "source": [
    "# Evaluación cuantitativa"
   ]
  },
  {
   "cell_type": "code",
   "execution_count": 55,
   "id": "34542ba8",
   "metadata": {},
   "outputs": [
    {
     "data": {
      "text/plain": [
       "0.6985751493469873"
      ]
     },
     "execution_count": 55,
     "metadata": {},
     "output_type": "execute_result"
    }
   ],
   "source": [
    "p2.score(X,y)"
   ]
  },
  {
   "cell_type": "code",
   "execution_count": 56,
   "id": "3b46b5ea",
   "metadata": {},
   "outputs": [
    {
     "data": {
      "text/plain": [
       "0.09489055551405874"
      ]
     },
     "execution_count": 56,
     "metadata": {},
     "output_type": "execute_result"
    }
   ],
   "source": [
    "y_true = y\n",
    "y_predicted = p2.predict(X)\n",
    "\n",
    "# Note que hay que sacarle la raiz al valor\n",
    "np.sqrt(mse(y_true, y_predicted))"
   ]
  },
  {
   "cell_type": "markdown",
   "id": "18e5774a",
   "metadata": {},
   "source": [
    "**¿Su equipo recomienda instalar el modelo de estimación en producción o es mejor continuar usando expertos para la tarea?**\n",
    "\n",
    "El modelo de estimación de nuestro equipo muestra unas metricas buenas, sin embargo aun creemos que no son lo suficientemente adecuados para ser puestos en producción. Una vez las metricas alcancen R^2 > 0.8 y RSME < 0.06, consideramos que el modelo es suficiente para el uso en producción. Por lo tanto, por el momento se recomienta continuar usando expertos para la tarea y seguir ajustando el modelo"
   ]
  },
  {
   "cell_type": "markdown",
   "id": "9cd1b819",
   "metadata": {},
   "source": [
    "**En caso de no recomendar el uso de un modelo de regresión ¿Qué otras posibilidades tiene la empresa? ¿Hacia dónde debe seguir con esta tarea?**\n",
    "\n",
    "En este caso se podría recomendar en vez de intentar predecir el puntaje de admisión, acordar un puntaje suficientemente bueno para decidir si un candidato es elegible y convertir esto a una tarea de aprendizaje de clasificación. Este tipo de aprendeizaje consideramos que resuelve las necesidades presentadas."
   ]
  },
  {
   "cell_type": "markdown",
   "id": "0abba75c",
   "metadata": {},
   "source": [
    "# Evaluación cualitativa"
   ]
  },
  {
   "cell_type": "markdown",
   "id": "7e6664eb",
   "metadata": {},
   "source": [
    "## Validación de supuestos\n",
    "**¿Qué obtuvieron con el ejercicio de regresión?**\n",
    "\n",
    "Con el modelo de regresión obtuvimos un sistema cuantitativo para estimar el puntaje de admision de un candidato."
   ]
  },
  {
   "cell_type": "markdown",
   "id": "929d67f3",
   "metadata": {},
   "source": [
    "## Interpretación de los coeficientes\n",
    "**¿Cuáles son las variables más influyentes y que tan confiables son los resultados?**\n",
    "\n",
    "Nuestros resultados indican que las variables mas influyentes, en orden de influencia son las siguientes:\n",
    "    - University Rating\n",
    "    - sqrt(CGPA)\n",
    "    - Research\n",
    "    - sqrt(GRE Score)\n",
    "    \n",
    "Los resultados son bastante confiables segun las metricas obtenidas del modelo. Sin embargo, como ya fue expresado previamente, no consideramos que sean aun lo suficientemente confiables para ser usadas en un ambiente de producción."
   ]
  }
 ],
 "metadata": {
  "kernelspec": {
   "display_name": "Python 3 (ipykernel)",
   "language": "python",
   "name": "python3"
  },
  "language_info": {
   "codemirror_mode": {
    "name": "ipython",
    "version": 3
   },
   "file_extension": ".py",
   "mimetype": "text/x-python",
   "name": "python",
   "nbconvert_exporter": "python",
   "pygments_lexer": "ipython3",
   "version": "3.9.12"
  }
 },
 "nbformat": 4,
 "nbformat_minor": 5
}
